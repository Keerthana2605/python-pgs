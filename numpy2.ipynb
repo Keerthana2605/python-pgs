{
 "cells": [
  {
   "cell_type": "code",
   "execution_count": 1,
   "metadata": {},
   "outputs": [],
   "source": [
    "import numpy as np"
   ]
  },
  {
   "cell_type": "code",
   "execution_count": null,
   "metadata": {},
   "outputs": [],
   "source": [
    "%pip install numpy\n"
   ]
  },
  {
   "cell_type": "code",
   "execution_count": 2,
   "metadata": {},
   "outputs": [
    {
     "data": {
      "text/plain": [
       "array([[0., 0., 0.],\n",
       "       [0., 0., 0.]])"
      ]
     },
     "execution_count": 2,
     "metadata": {},
     "output_type": "execute_result"
    }
   ],
   "source": [
    "# creating a numpy array\n",
    "np.empty([2,3])"
   ]
  },
  {
   "cell_type": "code",
   "execution_count": 4,
   "metadata": {},
   "outputs": [
    {
     "data": {
      "text/plain": [
       "array([10, 20, 30, 40])"
      ]
     },
     "execution_count": 4,
     "metadata": {},
     "output_type": "execute_result"
    }
   ],
   "source": [
    "arr = np.array([10,20,30,40])\n",
    "arr"
   ]
  },
  {
   "cell_type": "code",
   "execution_count": 6,
   "metadata": {},
   "outputs": [
    {
     "data": {
      "text/plain": [
       "array([4, 6, 8])"
      ]
     },
     "execution_count": 6,
     "metadata": {},
     "output_type": "execute_result"
    }
   ],
   "source": [
    "np.arange(4,10,2) #similar to range(start,stop, step)"
   ]
  },
  {
   "cell_type": "code",
   "execution_count": 10,
   "metadata": {},
   "outputs": [
    {
     "data": {
      "text/plain": [
       "array([[0., 0.],\n",
       "       [0., 0.],\n",
       "       [0., 0.]])"
      ]
     },
     "execution_count": 10,
     "metadata": {},
     "output_type": "execute_result"
    }
   ],
   "source": [
    "np.zeros((3,2)) #() is the dimension"
   ]
  },
  {
   "cell_type": "code",
   "execution_count": 8,
   "metadata": {},
   "outputs": [
    {
     "data": {
      "text/plain": [
       "array([[1., 1.],\n",
       "       [1., 1.],\n",
       "       [1., 1.]])"
      ]
     },
     "execution_count": 8,
     "metadata": {},
     "output_type": "execute_result"
    }
   ],
   "source": [
    "np.ones((3,2))"
   ]
  },
  {
   "cell_type": "markdown",
   "metadata": {},
   "source": [
    "linspace"
   ]
  },
  {
   "cell_type": "code",
   "execution_count": 13,
   "metadata": {},
   "outputs": [
    {
     "data": {
      "text/plain": [
       "array([0.        , 0.07142857, 0.14285714, 0.21428571, 0.28571429,\n",
       "       0.35714286, 0.42857143, 0.5       , 0.57142857, 0.64285714,\n",
       "       0.71428571, 0.78571429, 0.85714286, 0.92857143, 1.        ])"
      ]
     },
     "execution_count": 13,
     "metadata": {},
     "output_type": "execute_result"
    }
   ],
   "source": [
    "# Alternative to arange\n",
    "\n",
    "np.linspace(0,1,15) # start, end, the number of items we want between the start and end"
   ]
  },
  {
   "cell_type": "markdown",
   "metadata": {},
   "source": [
    "Logarithemic spaced array items "
   ]
  },
  {
   "cell_type": "code",
   "execution_count": 14,
   "metadata": {},
   "outputs": [
    {
     "data": {
      "text/plain": [
       "array([1.e-02, 1.e-01, 1.e+00, 1.e+01, 1.e+02])"
      ]
     },
     "execution_count": 14,
     "metadata": {},
     "output_type": "execute_result"
    }
   ],
   "source": [
    "np.logspace(-2,2,5)"
   ]
  },
  {
   "cell_type": "code",
   "execution_count": 18,
   "metadata": {},
   "outputs": [
    {
     "data": {
      "text/plain": [
       "array([ 0.,  1.,  4.,  9., 16., 25.])"
      ]
     },
     "execution_count": 18,
     "metadata": {},
     "output_type": "execute_result"
    }
   ],
   "source": [
    "# from a function\n",
    "\n",
    "np.fromfunction(lambda i: i**2,(6,))\n",
    "\n",
    "# here 6 indicates the number of values to be put into the tuple, no of columns"
   ]
  },
  {
   "cell_type": "code",
   "execution_count": 25,
   "metadata": {},
   "outputs": [
    {
     "name": "stdout",
     "output_type": "stream",
     "text": [
      "[0 1 2 3]\n"
     ]
    },
    {
     "data": {
      "text/plain": [
       "array([10, 11, 12, 13])"
      ]
     },
     "execution_count": 25,
     "metadata": {},
     "output_type": "execute_result"
    }
   ],
   "source": [
    "# array operators\n",
    "x = np.arange(4)\n",
    "print(x)\n",
    "x+10 # this is not inplace operation"
   ]
  },
  {
   "cell_type": "code",
   "execution_count": 23,
   "metadata": {},
   "outputs": [
    {
     "name": "stdout",
     "output_type": "stream",
     "text": [
      "[0 2 4 6]\n"
     ]
    }
   ],
   "source": [
    "# scalar multiplication and addition\n",
    "print(x*2)"
   ]
  },
  {
   "cell_type": "code",
   "execution_count": 24,
   "metadata": {},
   "outputs": [
    {
     "name": "stdout",
     "output_type": "stream",
     "text": [
      "[0 1 4 9]\n"
     ]
    }
   ],
   "source": [
    "print(x*x)\n",
    "# [0*0 1*1 2*2 3*3]"
   ]
  },
  {
   "cell_type": "code",
   "execution_count": 26,
   "metadata": {},
   "outputs": [
    {
     "data": {
      "text/plain": [
       "14"
      ]
     },
     "execution_count": 26,
     "metadata": {},
     "output_type": "execute_result"
    }
   ],
   "source": [
    "x.dot(x)"
   ]
  },
  {
   "cell_type": "code",
   "execution_count": 29,
   "metadata": {},
   "outputs": [
    {
     "name": "stdout",
     "output_type": "stream",
     "text": [
      "[[0 0 0 0]\n",
      " [0 1 0 0]\n",
      " [0 0 2 0]\n",
      " [0 0 0 3]]\n",
      "The symbol for matrix multiplication is @: \n",
      "[[0 0 0 0]\n",
      " [0 1 0 0]\n",
      " [0 0 4 0]\n",
      " [0 0 0 9]]\n"
     ]
    }
   ],
   "source": [
    "# example of matrix multiplication\n",
    "\n",
    "x = np.diag(np.arange(4))\n",
    "print(x)\n",
    "print(\"The symbol for matrix multiplication is @: \")\n",
    "print(x@x)"
   ]
  },
  {
   "cell_type": "code",
   "execution_count": 30,
   "metadata": {},
   "outputs": [
    {
     "data": {
      "text/plain": [
       "array([0, 1, 2, 3, 4, 5, 7, 8, 9])"
      ]
     },
     "execution_count": 30,
     "metadata": {},
     "output_type": "execute_result"
    }
   ],
   "source": [
    "# append operation - not in place operations\n",
    "\n",
    "z = np.array([0,1,2,3,4,5])\n",
    "np.append(z,[7,8,9])\n",
    "\n",
    "# array name, the list of items to be appended"
   ]
  },
  {
   "cell_type": "code",
   "execution_count": 31,
   "metadata": {},
   "outputs": [
    {
     "data": {
      "text/plain": [
       "array([0, 1, 2, 3, 4, 5])"
      ]
     },
     "execution_count": 31,
     "metadata": {},
     "output_type": "execute_result"
    }
   ],
   "source": [
    "z"
   ]
  },
  {
   "cell_type": "markdown",
   "metadata": {},
   "source": [
    "# Horizontal stack (hstack) vertical stack (vstack) - np.hstack(tup)"
   ]
  },
  {
   "cell_type": "code",
   "execution_count": 34,
   "metadata": {},
   "outputs": [
    {
     "name": "stdout",
     "output_type": "stream",
     "text": [
      "[0 0 0 1 1 1 2 2 2]\n",
      "[[0 0 0]\n",
      " [1 1 1]\n",
      " [2 2 2]]\n"
     ]
    }
   ],
   "source": [
    "x = np.array([0,0,0])\n",
    "y = np.array([1,1,1])\n",
    "z = np.array([2,2,2])\n",
    "print(np.hstack([x,y,z]))\n",
    "print(np.vstack([x,y,z]))\n"
   ]
  },
  {
   "cell_type": "code",
   "execution_count": 3,
   "metadata": {},
   "outputs": [
    {
     "data": {
      "text/plain": [
       "array([[ 1,  2,  3,  4],\n",
       "       [15,  6,  7,  8]])"
      ]
     },
     "execution_count": 3,
     "metadata": {},
     "output_type": "execute_result"
    }
   ],
   "source": [
    "import numpy as np\n",
    "x = np.array([[1,2,3,4],[15,6,7,8]])\n",
    "x"
   ]
  },
  {
   "cell_type": "code",
   "execution_count": 4,
   "metadata": {},
   "outputs": [
    {
     "data": {
      "text/plain": [
       "array([1., 2., 3., 4., 5.], dtype=float32)"
      ]
     },
     "execution_count": 4,
     "metadata": {},
     "output_type": "execute_result"
    }
   ],
   "source": [
    "np.array([1,2,3,4,5],dtype=np.float32)\n",
    "# 32 indicates the number of bits allocated to store each value"
   ]
  },
  {
   "cell_type": "code",
   "execution_count": 5,
   "metadata": {},
   "outputs": [
    {
     "data": {
      "text/plain": [
       "array([1., 2., 3., 4.])"
      ]
     },
     "execution_count": 5,
     "metadata": {},
     "output_type": "execute_result"
    }
   ],
   "source": [
    "np.array([1,2.0,3,4]) # 1,3,4 gets upcasted automatically because of 2.0"
   ]
  },
  {
   "cell_type": "code",
   "execution_count": 6,
   "metadata": {},
   "outputs": [
    {
     "data": {
      "text/plain": [
       "array([0., 0., 0., 0., 0.])"
      ]
     },
     "execution_count": 6,
     "metadata": {},
     "output_type": "execute_result"
    }
   ],
   "source": [
    "np.zeros(5)"
   ]
  },
  {
   "cell_type": "code",
   "execution_count": 7,
   "metadata": {},
   "outputs": [
    {
     "data": {
      "text/plain": [
       "array([[0., 0., 0.],\n",
       "       [0., 0., 0.]])"
      ]
     },
     "execution_count": 7,
     "metadata": {},
     "output_type": "execute_result"
    }
   ],
   "source": [
    "np.zeros((2,3))\n",
    "# default way of reading is the c programming type...first row and then the column"
   ]
  },
  {
   "cell_type": "code",
   "execution_count": 8,
   "metadata": {},
   "outputs": [
    {
     "data": {
      "text/plain": [
       "array([1, 1, 1, 1, 1])"
      ]
     },
     "execution_count": 8,
     "metadata": {},
     "output_type": "execute_result"
    }
   ],
   "source": [
    "np.ones(5,dtype=np.int32)"
   ]
  },
  {
   "cell_type": "code",
   "execution_count": 9,
   "metadata": {},
   "outputs": [
    {
     "data": {
      "text/plain": [
       "array([[0.72851845, 0.44845688, 0.01744613],\n",
       "       [0.79294593, 0.9394643 , 0.9043506 ]])"
      ]
     },
     "execution_count": 9,
     "metadata": {},
     "output_type": "execute_result"
    }
   ],
   "source": [
    "np.random.rand(2,3)"
   ]
  },
  {
   "cell_type": "code",
   "execution_count": 11,
   "metadata": {},
   "outputs": [
    {
     "data": {
      "text/plain": [
       "array([[6, 6],\n",
       "       [6, 6]])"
      ]
     },
     "execution_count": 11,
     "metadata": {},
     "output_type": "execute_result"
    }
   ],
   "source": [
    "# np.full((2,2),6)  this also gives the same output\n",
    "np.full((2,2),fill_value= 6)\n",
    "\n"
   ]
  },
  {
   "cell_type": "code",
   "execution_count": 12,
   "metadata": {},
   "outputs": [
    {
     "data": {
      "text/plain": [
       "array([[1., 0., 0.],\n",
       "       [0., 1., 0.],\n",
       "       [0., 0., 1.]])"
      ]
     },
     "execution_count": 12,
     "metadata": {},
     "output_type": "execute_result"
    }
   ],
   "source": [
    "np.eye(3)  #Identity matrix"
   ]
  },
  {
   "cell_type": "code",
   "execution_count": 13,
   "metadata": {},
   "outputs": [
    {
     "data": {
      "text/plain": [
       "array([2, 4, 6, 8])"
      ]
     },
     "execution_count": 13,
     "metadata": {},
     "output_type": "execute_result"
    }
   ],
   "source": [
    "np.arange(2,10,2) # exclusive of the end point"
   ]
  },
  {
   "cell_type": "code",
   "execution_count": 14,
   "metadata": {},
   "outputs": [
    {
     "data": {
      "text/plain": [
       "array([0.        , 0.05263158, 0.10526316, 0.15789474, 0.21052632,\n",
       "       0.26315789, 0.31578947, 0.36842105, 0.42105263, 0.47368421,\n",
       "       0.52631579, 0.57894737, 0.63157895, 0.68421053, 0.73684211,\n",
       "       0.78947368, 0.84210526, 0.89473684, 0.94736842, 1.        ])"
      ]
     },
     "execution_count": 14,
     "metadata": {},
     "output_type": "execute_result"
    }
   ],
   "source": [
    "np.linspace(0,1,20) #inclusive of the end point"
   ]
  },
  {
   "cell_type": "code",
   "execution_count": 19,
   "metadata": {},
   "outputs": [
    {
     "name": "stdout",
     "output_type": "stream",
     "text": [
      "[[ 5 10 12]\n",
      " [20 25 30]]\n",
      "2\n",
      "(2, 3)\n",
      "2\n",
      "3\n",
      "6\n"
     ]
    }
   ],
   "source": [
    "a = np.array([[5,10,12],[20,25,30]])\n",
    "print(a)\n",
    "print(a.ndim)  # prints its dimension\n",
    "print(a.shape)\n",
    "print(a.shape[0]) # gives number of rows\n",
    "print(a.shape[1]) # gives number of columns\n",
    "print(a.size)\n"
   ]
  },
  {
   "cell_type": "markdown",
   "metadata": {},
   "source": [
    "reshape"
   ]
  },
  {
   "cell_type": "code",
   "execution_count": 27,
   "metadata": {},
   "outputs": [
    {
     "name": "stdout",
     "output_type": "stream",
     "text": [
      "[3 4 5 6 7 8] \n",
      "\n",
      "[[3 4]\n",
      " [5 6]\n",
      " [7 8]] \n",
      "\n",
      "[3 4 5 6 7 8] \n",
      "\n",
      "[[3 4 5]\n",
      " [6 7 8]]\n"
     ]
    },
    {
     "data": {
      "text/plain": [
       "array([3, 4, 5, 6, 7, 8])"
      ]
     },
     "execution_count": 27,
     "metadata": {},
     "output_type": "execute_result"
    }
   ],
   "source": [
    "x = np.array([3,4,5,6,7,8])\n",
    "print(x,\"\\n\")\n",
    "print(np.reshape(x,(3,2)),\"\\n\") \n",
    "print(x,\"\\n\")\n",
    "\n",
    "print(x.reshape(2,3)) #another way of reshaping\n",
    "x\n"
   ]
  },
  {
   "cell_type": "code",
   "execution_count": 33,
   "metadata": {},
   "outputs": [
    {
     "name": "stdout",
     "output_type": "stream",
     "text": [
      "[[1 2]\n",
      " [3 4]\n",
      " [5 6]] \n",
      "\n",
      "[[1 2 3]\n",
      " [4 5 6]]\n"
     ]
    }
   ],
   "source": [
    "a = np.array([1,2,3,4,5,6])\n",
    "print(np.reshape(a,(3,-1)),\"\\n\") # automatically decides the number of columns \n",
    "print(np.reshape(a,(-1,3)))"
   ]
  },
  {
   "cell_type": "markdown",
   "metadata": {},
   "source": [
    "flatten() and ravel()"
   ]
  },
  {
   "cell_type": "code",
   "execution_count": 44,
   "metadata": {},
   "outputs": [
    {
     "name": "stdout",
     "output_type": "stream",
     "text": [
      "[[1. 1.]\n",
      " [1. 1.]]\n",
      "b =  (4,)\n",
      "c =  (4,)\n",
      "[1. 1. 1. 1.] \n",
      " [1. 1. 1. 1.]\n",
      "\n",
      "After altering b array, \n",
      " a =  [[1. 1.]\n",
      " [1. 1.]] \n",
      " and b = [0. 1. 1. 1.]\n",
      "\n",
      "After altering c array, \n",
      " a =  [[5. 1.]\n",
      " [1. 1.]] \n",
      " and c = [5. 1. 1. 1.]\n"
     ]
    }
   ],
   "source": [
    "a = np.ones((2,2))\n",
    "# flatten() - deep copy\n",
    "# ravel() - shallow copy\n",
    "print(a)\n",
    "\n",
    "b = a.flatten()\n",
    "c = a.ravel()\n",
    "print(\"b = \" ,b.shape)\n",
    "print(\"c = \",c.shape)\n",
    "\n",
    "print(b,\"\\n\",c)\n",
    "\n",
    "b[0] = 0\n",
    "print(f\"\\nAfter altering b array, \\n a =  {a} \\n and b = {b}\")\n",
    "\n",
    "c[0] = 5\n",
    "print(f\"\\nAfter altering c array, \\n a =  {a} \\n and c = {c}\")\n"
   ]
  },
  {
   "cell_type": "markdown",
   "metadata": {},
   "source": [
    "Transpose"
   ]
  },
  {
   "cell_type": "code",
   "execution_count": 46,
   "metadata": {},
   "outputs": [
    {
     "name": "stdout",
     "output_type": "stream",
     "text": [
      "[[1 2 3]\n",
      " [4 5 6]]\n",
      "(2, 3) \n",
      "\n",
      "[[1 4]\n",
      " [2 5]\n",
      " [3 6]]\n",
      "(3, 2)\n"
     ]
    }
   ],
   "source": [
    "a = np.array([[1,2,3],[4,5,6]])\n",
    "print(a)\n",
    "print(a.shape,\"\\n\")\n",
    "\n",
    "b = np.transpose(a)\n",
    "print(b)\n",
    "print(b.shape)\n"
   ]
  },
  {
   "cell_type": "code",
   "execution_count": 50,
   "metadata": {},
   "outputs": [
    {
     "name": "stdout",
     "output_type": "stream",
     "text": [
      "[1 2 3] \n",
      " (3,) \n",
      "\n",
      "[[1 2 3]]\n",
      "(1, 3) \n",
      "\n",
      "[[1]\n",
      " [2]\n",
      " [3]]\n",
      "(3, 1) \n",
      "\n"
     ]
    }
   ],
   "source": [
    "# Expanding the dimensions of the given numpy array\n",
    "\n",
    "a = np.array([1,2,3])\n",
    "print(a,\"\\n\",a.shape,\"\\n\")\n",
    "\n",
    "b = np.expand_dims(a,axis=0) # axis = 0 means column and 1 is row \n",
    "print(b)\n",
    "print(b.shape,\"\\n\")\n",
    "\n",
    "c = np.expand_dims(a,axis=1) # axis = 0 means column and 1 is row \n",
    "print(c)\n",
    "print(c.shape,\"\\n\")"
   ]
  },
  {
   "cell_type": "markdown",
   "metadata": {},
   "source": [
    "Squeeze dimension"
   ]
  },
  {
   "cell_type": "code",
   "execution_count": 56,
   "metadata": {},
   "outputs": [
    {
     "name": "stdout",
     "output_type": "stream",
     "text": [
      "[[[1 2 3]\n",
      "  [4 5 6]]]\n",
      "(1, 2, 3) \n",
      "\n",
      "[[1 2 3]\n",
      " [4 5 6]]\n",
      "(2, 3)\n"
     ]
    }
   ],
   "source": [
    "a = np.array([[[1,2,3],[4,5,6]]])\n",
    "print(a)\n",
    "print(a.shape,\"\\n\") # it indicates 1 entry of 2X3 matrix\n",
    "\n",
    "b = np.squeeze(a,axis=0)\n",
    "print(b)\n",
    "print(b.shape)"
   ]
  },
  {
   "cell_type": "markdown",
   "metadata": {},
   "source": [
    "slicing and indexing"
   ]
  },
  {
   "cell_type": "code",
   "execution_count": 58,
   "metadata": {},
   "outputs": [
    {
     "name": "stdout",
     "output_type": "stream",
     "text": [
      "[2 4]\n",
      "[1 3 5]\n",
      "[2 4 6]\n",
      "[2 3 4 5 6]\n"
     ]
    }
   ],
   "source": [
    "a = np.array([1,2,3,4,5,6])\n",
    "print(a[1:5:2])\n",
    "print(a[:6:2]) # from the start\n",
    "print(a[1::2]) # till the end\n",
    "print(a[1:6:]) # default step size of one is taken\n",
    "\n"
   ]
  },
  {
   "cell_type": "code",
   "execution_count": 59,
   "metadata": {},
   "outputs": [
    {
     "name": "stdout",
     "output_type": "stream",
     "text": [
      "[[1 2 3]\n",
      " [4 5 6]]\n",
      "1\n",
      "6\n"
     ]
    }
   ],
   "source": [
    "# 2D array - indexing\n",
    "\n",
    "a = np.array([[1,2,3],[4,5,6]])\n",
    "print(a)\n",
    "print(a[0,0])\n",
    "print(a[1,2])\n"
   ]
  },
  {
   "cell_type": "code",
   "execution_count": 69,
   "metadata": {},
   "outputs": [
    {
     "name": "stdout",
     "output_type": "stream",
     "text": [
      "[[1 2 3]\n",
      " [4 5 6]\n",
      " [7 8 9]] \n",
      "\n",
      "[[2]\n",
      " [5]\n",
      " [8]] \n",
      "\n",
      "[[2 3]\n",
      " [5 6]\n",
      " [8 9]] \n",
      "\n",
      "[[1 2 3]] \n",
      "\n",
      "[[1 3]\n",
      " [4 6]\n",
      " [7 9]] \n",
      "\n",
      "[[1 2 3]\n",
      " [7 8 9]] \n",
      "\n"
     ]
    }
   ],
   "source": [
    "# 2D array slicing\n",
    "\n",
    "a = np.array([[1,2,3],\n",
    "              [4,5,6],\n",
    "              [7,8,9]])\n",
    "\n",
    "print(a,\"\\n\")\n",
    "print(a[:,1:2],\"\\n\") # a[row,column] so here all the rows are selected :,\n",
    "#  columns only 1 is selected\n",
    "print(a[:,1:3],\"\\n\")\n",
    "\n",
    "# to get only first row elements\n",
    "print(a[:1,:],\"\\n\")\n",
    "\n",
    "# alternate columns from first row\n",
    "print(a[:,::2],\"\\n\")\n",
    "\n",
    "# alternate rows from first row\n",
    "print(a[::2,:],\"\\n\")\n"
   ]
  },
  {
   "cell_type": "code",
   "execution_count": 5,
   "metadata": {},
   "outputs": [
    {
     "name": "stdout",
     "output_type": "stream",
     "text": [
      "[[ 1  2  3  4  5]\n",
      " [ 6  7  8  9 10]]\n",
      "(2, 5)\n",
      "[ 5 10]\n",
      "[[ 5  4]\n",
      " [10  9]]\n"
     ]
    }
   ],
   "source": [
    "import numpy as np\n",
    "a = np.array([[1,2,3,4,5],[6,7,8,9,10]])\n",
    "print(a)\n",
    "print(a.shape)\n",
    "print(a[:,-1])\n",
    "print(a[:,-1:-3:-1]) #prints the last two rows, in reverse order, thus step is -1\n"
   ]
  },
  {
   "cell_type": "code",
   "execution_count": 9,
   "metadata": {},
   "outputs": [
    {
     "name": "stdout",
     "output_type": "stream",
     "text": [
      "Original Array\n",
      " [[ 1  2  3  4  5]\n",
      " [ 6  7  8  9 10]]\n",
      "\n",
      "Reversed array\n",
      " [[10  9  8  7  6]\n",
      " [ 5  4  3  2  1]]\n"
     ]
    }
   ],
   "source": [
    "a = np.array([[1,2,3,4,5],[6,7,8,9,10]])\n",
    "print(\"Original Array\\n\",a)\n",
    "print(\"\\nReversed array\\n\",a[::-1,::-1])"
   ]
  },
  {
   "cell_type": "code",
   "execution_count": 12,
   "metadata": {},
   "outputs": [
    {
     "name": "stdout",
     "output_type": "stream",
     "text": [
      "[[ 0  1  2  3  4  5  6]\n",
      " [ 7  8  9 10 11 12 13]\n",
      " [14 15 16 17 18 19 20]\n",
      " [21 22 23 24 25 26 27]\n",
      " [28 29 30 31 32 33 34]\n",
      " [35 36 37 38 39 40 41]]\n",
      "[0 1 2 3 4 5 6]\n",
      "[ 7  8  9 10 11 12 13]\n",
      "[21 22 23 24 25 26 27]\n",
      "\n",
      " [[ 0]\n",
      " [ 7]\n",
      " [14]\n",
      " [21]\n",
      " [28]\n",
      " [35]]\n"
     ]
    }
   ],
   "source": [
    "y = np.arange(42).reshape(6,7)\n",
    "print(y)\n",
    "print(y[0])\n",
    "print(y[1])\n",
    "print(y[3])\n",
    "\n",
    "# printing the first column\n",
    "print(\"\\n\",y[:,:1])\n",
    "\n"
   ]
  },
  {
   "cell_type": "code",
   "execution_count": 14,
   "metadata": {},
   "outputs": [
    {
     "name": "stdout",
     "output_type": "stream",
     "text": [
      "[ 2  9 16 23 30 37]\n"
     ]
    }
   ],
   "source": [
    "# printing only the 3rd column\n",
    "# print(y[:,2:3])\n",
    "print(y[:,2])  #both of these will just print the 3rd column\n"
   ]
  },
  {
   "cell_type": "code",
   "execution_count": 16,
   "metadata": {},
   "outputs": [
    {
     "name": "stdout",
     "output_type": "stream",
     "text": [
      "17\n"
     ]
    }
   ],
   "source": [
    "print(y[2,3]) #random"
   ]
  },
  {
   "cell_type": "code",
   "execution_count": 17,
   "metadata": {},
   "outputs": [
    {
     "name": "stdout",
     "output_type": "stream",
     "text": [
      "[[ 0  1  2  3  4  5  6]\n",
      " [ 7  8  9 10 11 12 13]\n",
      " [14 15 16 17 18 19 20]\n",
      " [21 22 23 24 25 26 27]\n",
      " [28 29 30 31 32 33 34]\n",
      " [35 36 37 38 39 40 41]]\n",
      "[ 1  8 15]\n"
     ]
    }
   ],
   "source": [
    "# print the first 3 elements of the second column\n",
    "\n",
    "print(y)\n",
    "print(y[:3,1])"
   ]
  },
  {
   "cell_type": "code",
   "execution_count": 18,
   "metadata": {},
   "outputs": [
    {
     "name": "stdout",
     "output_type": "stream",
     "text": [
      "[[ 8  9]\n",
      " [15 16]\n",
      " [22 23]\n",
      " [29 30]]\n"
     ]
    }
   ],
   "source": [
    "# portion of elements from second and third column\n",
    "\n",
    "print(y[1:5,1:3])"
   ]
  },
  {
   "cell_type": "code",
   "execution_count": 19,
   "metadata": {},
   "outputs": [
    {
     "name": "stdout",
     "output_type": "stream",
     "text": [
      "[[17 18 19]\n",
      " [24 25 26]\n",
      " [31 32 33]]\n"
     ]
    }
   ],
   "source": [
    "# 3X3 subarray from 17th to 33\n",
    "print(y[2:5,3:6])"
   ]
  },
  {
   "cell_type": "code",
   "execution_count": 20,
   "metadata": {},
   "outputs": [
    {
     "name": "stdout",
     "output_type": "stream",
     "text": [
      "[[ 0  1  2  3  4  5  6]\n",
      " [14 15 16 17 18 19 20]\n",
      " [28 29 30 31 32 33 34]]\n"
     ]
    }
   ],
   "source": [
    "# print every second row from the first row\n",
    "\n",
    "print(y[::2]) # column need not be specified if there is no restriction"
   ]
  },
  {
   "cell_type": "code",
   "execution_count": 22,
   "metadata": {},
   "outputs": [
    {
     "name": "stdout",
     "output_type": "stream",
     "text": [
      "[[ 0  1  2  3  4  5  6]\n",
      " [ 7  8  9 10 11 12 13]\n",
      " [14 15 16 17 18 19 20]\n",
      " [21 22 23 24 25 26 27]\n",
      " [28 29 30 31 32 33 34]\n",
      " [35 36 37 38 39 40 41]] \n",
      "\n",
      "[[ 0  2  4  6]\n",
      " [ 7  9 11 13]\n",
      " [14 16 18 20]\n",
      " [21 23 25 27]\n",
      " [28 30 32 34]\n",
      " [35 37 39 41]]\n"
     ]
    }
   ],
   "source": [
    "# print every second column starting from the first column\n",
    "print(y,\"\\n\")\n",
    "print(y[:,::2])"
   ]
  },
  {
   "cell_type": "code",
   "execution_count": 24,
   "metadata": {},
   "outputs": [
    {
     "data": {
      "text/plain": [
       "array([[[ 0,  1,  2,  3,  4],\n",
       "        [ 5,  6,  7,  8,  9],\n",
       "        [10, 11, 12, 13, 14]],\n",
       "\n",
       "       [[15, 16, 17, 18, 19],\n",
       "        [20, 21, 22, 23, 24],\n",
       "        [25, 26, 27, 28, 29]],\n",
       "\n",
       "       [[30, 31, 32, 33, 34],\n",
       "        [35, 36, 37, 38, 39],\n",
       "        [40, 41, 42, 43, 44]]])"
      ]
     },
     "execution_count": 24,
     "metadata": {},
     "output_type": "execute_result"
    }
   ],
   "source": [
    "# 3D array slicing and indexing\n",
    "y = np.arange(45).reshape(3,3,5)\n",
    "y\n",
    "# here axis zero is all the 3 sheets\n",
    "# axis 1 is the individual sheets\n",
    "# axis 2 is the columns\n"
   ]
  },
  {
   "cell_type": "code",
   "execution_count": 25,
   "metadata": {},
   "outputs": [
    {
     "name": "stdout",
     "output_type": "stream",
     "text": [
      "[[ 0  1  2  3  4]\n",
      " [ 5  6  7  8  9]\n",
      " [10 11 12 13 14]]\n"
     ]
    }
   ],
   "source": [
    "print(y[0]) # prints the first sheet"
   ]
  },
  {
   "cell_type": "code",
   "execution_count": 26,
   "metadata": {},
   "outputs": [
    {
     "name": "stdout",
     "output_type": "stream",
     "text": [
      "[5 6 7 8 9]\n"
     ]
    }
   ],
   "source": [
    "print(y[0][1]) # second "
   ]
  },
  {
   "cell_type": "code",
   "execution_count": 28,
   "metadata": {},
   "outputs": [
    {
     "name": "stdout",
     "output_type": "stream",
     "text": [
      "22\n"
     ]
    }
   ],
   "source": [
    "print(y[1][1][2])"
   ]
  },
  {
   "cell_type": "code",
   "execution_count": 30,
   "metadata": {},
   "outputs": [
    {
     "data": {
      "text/plain": [
       "array([[15, 16, 17, 18, 19],\n",
       "       [30, 31, 32, 33, 34]])"
      ]
     },
     "execution_count": 30,
     "metadata": {},
     "output_type": "execute_result"
    }
   ],
   "source": [
    "# slicing - return first rows for the last 2D arrays\n",
    "# y[1:2][0][:] this wont work\n",
    "\n",
    "y[1:,0]"
   ]
  },
  {
   "cell_type": "code",
   "execution_count": 32,
   "metadata": {},
   "outputs": [
    {
     "data": {
      "text/plain": [
       "array([[[ 0,  1,  2,  3,  4],\n",
       "        [ 5,  6,  7,  8,  9],\n",
       "        [10, 11, 12, 13, 14]],\n",
       "\n",
       "       [[15, 16, 17, 18, 19],\n",
       "        [20, 21, 22, 23, 24],\n",
       "        [25, 26, 27, 28, 29]],\n",
       "\n",
       "       [[30, 31, 32, 33, 34],\n",
       "        [35, 36, 37, 38, 39],\n",
       "        [40, 41, 42, 43, 44]]])"
      ]
     },
     "execution_count": 32,
     "metadata": {},
     "output_type": "execute_result"
    }
   ],
   "source": [
    "y"
   ]
  },
  {
   "cell_type": "code",
   "execution_count": 31,
   "metadata": {},
   "outputs": [
    {
     "data": {
      "text/plain": [
       "array([[[16, 17, 18],\n",
       "        [21, 22, 23]],\n",
       "\n",
       "       [[31, 32, 33],\n",
       "        [36, 37, 38]]])"
      ]
     },
     "execution_count": 31,
     "metadata": {},
     "output_type": "execute_result"
    }
   ],
   "source": [
    "# slice through both columns and rows \n",
    "y[1:,0:2,1:4] # sheets, rows and columns"
   ]
  },
  {
   "cell_type": "code",
   "execution_count": 34,
   "metadata": {},
   "outputs": [
    {
     "data": {
      "text/plain": [
       "array([[[ 0,  1,  2],\n",
       "        [ 3,  4,  5],\n",
       "        [ 6,  7,  8]],\n",
       "\n",
       "       [[ 9, 10, 11],\n",
       "        [12, 13, 14],\n",
       "        [15, 16, 17]],\n",
       "\n",
       "       [[18, 19, 20],\n",
       "        [21, 22, 23],\n",
       "        [24, 25, 26]]])"
      ]
     },
     "execution_count": 34,
     "metadata": {},
     "output_type": "execute_result"
    }
   ],
   "source": [
    "# create a (3,3,3) 3d array with values from 0 to 26\n",
    "\n",
    "arr = np.arange(27).reshape(3,3,3)\n",
    "arr"
   ]
  },
  {
   "cell_type": "code",
   "execution_count": 41,
   "metadata": {},
   "outputs": [
    {
     "name": "stdout",
     "output_type": "stream",
     "text": [
      "[[6 7 8]]\n"
     ]
    },
    {
     "data": {
      "text/plain": [
       "array([6, 7, 8])"
      ]
     },
     "execution_count": 41,
     "metadata": {},
     "output_type": "execute_result"
    }
   ],
   "source": [
    "print(arr[0,2:,:]) # last row of first sheet\n",
    "arr[0,2]"
   ]
  },
  {
   "cell_type": "code",
   "execution_count": 42,
   "metadata": {},
   "outputs": [
    {
     "name": "stdout",
     "output_type": "stream",
     "text": [
      "[[ 3  4  5]\n",
      " [12 13 14]]\n"
     ]
    },
    {
     "data": {
      "text/plain": [
       "array([[ 3,  4,  5],\n",
       "       [12, 13, 14]])"
      ]
     },
     "execution_count": 42,
     "metadata": {},
     "output_type": "execute_result"
    }
   ],
   "source": [
    "# second row of first and second sheet\n",
    "print(arr[0:2,1,:])\n",
    "arr[0:2,1]"
   ]
  },
  {
   "cell_type": "code",
   "execution_count": 45,
   "metadata": {},
   "outputs": [
    {
     "name": "stdout",
     "output_type": "stream",
     "text": [
      "[[[ 2]\n",
      "  [ 5]\n",
      "  [ 8]]\n",
      "\n",
      " [[11]\n",
      "  [14]\n",
      "  [17]]\n",
      "\n",
      " [[20]\n",
      "  [23]\n",
      "  [26]]]\n"
     ]
    },
    {
     "data": {
      "text/plain": [
       "array([[ 2,  5,  8],\n",
       "       [11, 14, 17],\n",
       "       [20, 23, 26]])"
      ]
     },
     "execution_count": 45,
     "metadata": {},
     "output_type": "execute_result"
    }
   ],
   "source": [
    "# last column of all 3 sheets\n",
    "print(arr[:,:,2:])\n",
    "arr[:,:,2]"
   ]
  },
  {
   "cell_type": "code",
   "execution_count": 1,
   "metadata": {},
   "outputs": [
    {
     "name": "stdout",
     "output_type": "stream",
     "text": [
      "[[ 1  2  3  4  5]\n",
      " [ 6  7  8  9 10]]\n",
      "vertically:  [[ 5  4  3  2  1]\n",
      " [10  9  8  7  6]]\n",
      "horizontally:  [[ 6  7  8  9 10]\n",
      " [ 1  2  3  4  5]]\n"
     ]
    }
   ],
   "source": [
    "import numpy as np\n",
    "a = np.arange(1,11).reshape(2,5)\n",
    "print(a)\n",
    "print(\"vertically: \",np.flip(a,axis=1)) # across row entries\n",
    "print(\"horizontally: \",np.flip(a,axis=0)) # across column entries\n"
   ]
  },
  {
   "cell_type": "code",
   "execution_count": 2,
   "metadata": {},
   "outputs": [
    {
     "name": "stdout",
     "output_type": "stream",
     "text": [
      "[0 1 2 3 4]\n",
      "[5 6 7 8 9]\n",
      "[[0 1 2 3 4]\n",
      " [5 6 7 8 9]]\n",
      "[0 1 2 3 4 5 6 7 8 9]\n"
     ]
    }
   ],
   "source": [
    "a = np.arange(0,5)\n",
    "a = np.arange(0,5)\n",
    "b = np.arange(5,10)\n",
    "print(a)\n",
    "print(b)\n",
    "print(np.vstack((a,b)))\n",
    "print(np.hstack((a,b)))"
   ]
  },
  {
   "cell_type": "code",
   "execution_count": 7,
   "metadata": {},
   "outputs": [
    {
     "name": "stdout",
     "output_type": "stream",
     "text": [
      "[[9 9 9]\n",
      " [9 9 9]]\n",
      "[[1 1 1]\n",
      " [1 1 1]\n",
      " [9 9 9]\n",
      " [9 9 9]]\n",
      "[[1 1 1 9 9 9]\n",
      " [1 1 1 9 9 9]]\n"
     ]
    }
   ],
   "source": [
    "ones = np.array([[1,1,1],[1,1,1]])\n",
    "n2 = np.array([[1,1,1],[1,1,1]]) * 9\n",
    "print(n2)\n",
    "nines = np.array([[9,9,9],[9,9,9]])\n",
    "x =np.concatenate([ones,nines],axis=0)\n",
    "y = np.concatenate([ones,nines],axis=1)\n",
    "print(x)\n",
    "print(y)\n"
   ]
  },
  {
   "cell_type": "code",
   "execution_count": 11,
   "metadata": {},
   "outputs": [
    {
     "name": "stdout",
     "output_type": "stream",
     "text": [
      "[ 5  7  9 11]\n",
      "[0 2 4 6]\n",
      "[10 12 14 16]\n",
      "[25 35 45 55]\n",
      "[1.  1.4 1.8 2.2]\n",
      "[ 25  49  81 121]\n"
     ]
    }
   ],
   "source": [
    "a = np.arange(5,12,2)\n",
    "print(a)\n",
    "print(a-5)\n",
    "print(a+5)\n",
    "print(a*5)\n",
    "print(a/5)\n",
    "print(a**2)\n"
   ]
  },
  {
   "cell_type": "markdown",
   "metadata": {},
   "source": [
    "Mean median std\n"
   ]
  },
  {
   "cell_type": "code",
   "execution_count": 13,
   "metadata": {},
   "outputs": [
    {
     "name": "stdout",
     "output_type": "stream",
     "text": [
      "[ 5  7  9 11 13]\n",
      "mean 9.0\n",
      "Standard deviation 2.8284271247461903\n",
      "median:  9.0\n"
     ]
    }
   ],
   "source": [
    "a = np.arange(5,15,2)\n",
    "print(a)\n",
    "print(\"mean\",np.mean(a))\n",
    "print(\"Standard deviation\",np.std(a))\n",
    "print(\"median: \",np.median(a))"
   ]
  },
  {
   "cell_type": "code",
   "execution_count": 15,
   "metadata": {},
   "outputs": [
    {
     "name": "stdout",
     "output_type": "stream",
     "text": [
      "[[ 1  6]\n",
      " [ 4 10]]\n",
      "[1 6]\n",
      "[1 4]\n"
     ]
    }
   ],
   "source": [
    "# min and max along the axis\n",
    "\n",
    "a = np.array([[1,6],[4,10]])\n",
    "print(a)\n",
    "print(np.min(a,axis=0))\n",
    "print(np.min(a,axis=1))\n"
   ]
  },
  {
   "cell_type": "code",
   "execution_count": 16,
   "metadata": {},
   "outputs": [
    {
     "name": "stdout",
     "output_type": "stream",
     "text": [
      "[[ 1  6 11 12  0]\n",
      " [ 4 10 12 34  2]]\n",
      "[0 0 0 0 0]\n",
      "[4 4]\n"
     ]
    }
   ],
   "source": [
    "a = np.array([[1,6,11,12,0],\n",
    "              [4,10,12,34,2]])\n",
    "print(a)\n",
    "print(np.argmin(a,axis=0)) # because the first row elements are smaller - column wise\n",
    "print(np.argmin(a,axis=1)) "
   ]
  },
  {
   "cell_type": "code",
   "execution_count": 18,
   "metadata": {},
   "outputs": [
    {
     "name": "stdout",
     "output_type": "stream",
     "text": [
      "[[1 6]\n",
      " [4 3]\n",
      " [2 2]]\n",
      "[ 7 11]\n",
      "[7 7 4]\n"
     ]
    }
   ],
   "source": [
    "# sum across the axis\n",
    "a = np.array([[1,6],[4,3],[2,2]])\n",
    "print(a)\n",
    "print(np.sum(a,axis = 0))\n",
    "print(np.sum(a,axis = 1))"
   ]
  },
  {
   "cell_type": "code",
   "execution_count": 19,
   "metadata": {},
   "outputs": [
    {
     "name": "stdout",
     "output_type": "stream",
     "text": [
      "[4 5 6 7]\n",
      "62\n"
     ]
    }
   ],
   "source": [
    "a = np.array([4,5,6,7])\n",
    "print(a)\n",
    "b = np.sum(a,initial=40)\n",
    "print(b)"
   ]
  },
  {
   "cell_type": "code",
   "execution_count": 20,
   "metadata": {},
   "outputs": [
    {
     "name": "stdout",
     "output_type": "stream",
     "text": [
      "[[1 6]\n",
      " [4 3]\n",
      " [2 2]]\n",
      "[2.33333333 3.66666667]\n",
      "[3.5 3.5 2. ]\n"
     ]
    }
   ],
   "source": [
    "a = np.array([[1,6],[4,3],[2,2]])\n",
    "print(a)\n",
    "print(np.average(a,axis = 0))\n",
    "print(np.average(a,axis = 1))\n"
   ]
  },
  {
   "cell_type": "code",
   "execution_count": 21,
   "metadata": {},
   "outputs": [
    {
     "name": "stdout",
     "output_type": "stream",
     "text": [
      "[[1 6]\n",
      " [4 3]\n",
      " [2 2]]\n",
      "[2.33333333 3.66666667]\n",
      "[3.5 3.5 2. ]\n"
     ]
    }
   ],
   "source": [
    "a = np.array([[1,6],[4,3],[2,2]])\n",
    "print(a)\n",
    "print(np.mean(a,axis = 0))\n",
    "print(np.mean(a,axis = 1))"
   ]
  },
  {
   "cell_type": "code",
   "execution_count": 23,
   "metadata": {},
   "outputs": [
    {
     "name": "stdout",
     "output_type": "stream",
     "text": [
      "[56  2  3  4  5]\n",
      "[1 2 3 4 5]\n",
      "[56  2  3  4  5]\n",
      "[56  2  3  4  5]\n"
     ]
    }
   ],
   "source": [
    "# array copy\n",
    "a = np.array([1,2,3,4,5])\n",
    "x = a.copy()\n",
    "a[0] = 56\n",
    "print(a)\n",
    "print(x)\n",
    "\n",
    "# view changes the value for both the arrays\n",
    "a = np.array([1,2,3,4,5])\n",
    "x = a.view()\n",
    "a[0] = 56\n",
    "print(a)\n",
    "print(x)\n",
    "\n"
   ]
  },
  {
   "cell_type": "code",
   "execution_count": 26,
   "metadata": {},
   "outputs": [
    {
     "name": "stdout",
     "output_type": "stream",
     "text": [
      "[array([1, 2]), array([3, 4]), array([5, 6])]\n"
     ]
    }
   ],
   "source": [
    "# array split\n",
    "a = np.array([1,2,3,4,5,6])\n",
    "x = np.split(a,3)\n",
    "print(x)"
   ]
  },
  {
   "cell_type": "code",
   "execution_count": 27,
   "metadata": {},
   "outputs": [
    {
     "name": "stdout",
     "output_type": "stream",
     "text": [
      "(array([1, 3, 5, 6], dtype=int64),)\n"
     ]
    }
   ],
   "source": [
    "a = np.array([1,4,2,4,3,4,4])\n",
    "# indices where 4 is present\n",
    "x = np.where(a==4)\n",
    "print(x)"
   ]
  },
  {
   "cell_type": "code",
   "execution_count": 31,
   "metadata": {},
   "outputs": [
    {
     "name": "stdout",
     "output_type": "stream",
     "text": [
      "[ 5  6  7  8  9 10 11 12 13 14 15 16 17 18 19 20 21 22 23 24 25]\n",
      "(array([ 1,  3,  5,  7,  9, 11, 13, 15, 17, 19], dtype=int64),)\n",
      "(array([ 0,  2,  4,  6,  8, 10, 12, 14, 16, 18, 20], dtype=int64),)\n"
     ]
    },
    {
     "data": {
      "text/plain": [
       "[array([ 5,  7,  9, 11, 13, 15, 17, 19, 21, 23, 25])]"
      ]
     },
     "execution_count": 31,
     "metadata": {},
     "output_type": "execute_result"
    }
   ],
   "source": [
    "a = np.arange(5,26)\n",
    "print(a)\n",
    "#index position of even values\n",
    "x = np.where(a%2==0)\n",
    "print(x)\n",
    "\n",
    "# index position of odd values\n",
    "x = np.where(a%2!=0)\n",
    "print(x)\n",
    "\n",
    "# create a seperate array of even values\n",
    "oddarray = []\n",
    "for i in x:\n",
    "  oddarray.append(a[i])\n",
    "\n",
    "print(oddarray)\n",
    "\n"
   ]
  },
  {
   "cell_type": "code",
   "execution_count": 32,
   "metadata": {},
   "outputs": [
    {
     "data": {
      "text/plain": [
       "[array([21, 22, 23, 24, 25, 26, 27, 28, 29])]"
      ]
     },
     "execution_count": 32,
     "metadata": {},
     "output_type": "execute_result"
    }
   ],
   "source": [
    "x = np.arange(30)\n",
    "# seperate array for values greater than 20\n",
    "indi = np.where(x>20)\n",
    "\n",
    "gt30 = []\n",
    "for i in indi:\n",
    "  gt30.append(x[i])\n",
    "\n",
    "gt30"
   ]
  },
  {
   "cell_type": "code",
   "execution_count": null,
   "metadata": {},
   "outputs": [],
   "source": []
  }
 ],
 "metadata": {
  "interpreter": {
   "hash": "7b1f2b33e866b0bf2409397e5f58ba9cdf170d3b7f64c8f359c79998e2f88ad4"
  },
  "kernelspec": {
   "display_name": "Python 3.10.5 64-bit (windows store)",
   "language": "python",
   "name": "python3"
  },
  "language_info": {
   "codemirror_mode": {
    "name": "ipython",
    "version": 3
   },
   "file_extension": ".py",
   "mimetype": "text/x-python",
   "name": "python",
   "nbconvert_exporter": "python",
   "pygments_lexer": "ipython3",
   "version": "3.10.5"
  },
  "orig_nbformat": 4
 },
 "nbformat": 4,
 "nbformat_minor": 2
}
