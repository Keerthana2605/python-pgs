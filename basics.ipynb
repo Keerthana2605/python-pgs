{
 "cells": [
  {
   "cell_type": "code",
   "execution_count": 1,
   "metadata": {},
   "outputs": [
    {
     "data": {
      "text/plain": [
       "'3.9.12 (main, Apr  4 2022, 05:22:27) [MSC v.1916 64 bit (AMD64)]'"
      ]
     },
     "execution_count": 1,
     "metadata": {},
     "output_type": "execute_result"
    }
   ],
   "source": [
    "import sys\n",
    "sys.version\n"
   ]
  },
  {
   "cell_type": "code",
   "execution_count": 2,
   "metadata": {},
   "outputs": [
    {
     "name": "stdout",
     "output_type": "stream",
     "text": [
      "['False', 'None', 'True', '__peg_parser__', 'and', 'as', 'assert', 'async', 'await', 'break', 'class', 'continue', 'def', 'del', 'elif', 'else', 'except', 'finally', 'for', 'from', 'global', 'if', 'import', 'in', 'is', 'lambda', 'nonlocal', 'not', 'or', 'pass', 'raise', 'return', 'try', 'while', 'with', 'yield']\n",
      "total no of keywords are 36\n"
     ]
    }
   ],
   "source": [
    "import keyword\n",
    "print(keyword.kwlist)\n",
    "print(\"total no of keywords are\",len(keyword.kwlist))\n"
   ]
  },
  {
   "cell_type": "code",
   "execution_count": 3,
   "metadata": {},
   "outputs": [
    {
     "ename": "SyntaxError",
     "evalue": "invalid syntax (1289719573.py, line 1)",
     "output_type": "error",
     "traceback": [
      "\u001b[1;36m  Input \u001b[1;32mIn [3]\u001b[1;36m\u001b[0m\n\u001b[1;33m    global=1\u001b[0m\n\u001b[1;37m          ^\u001b[0m\n\u001b[1;31mSyntaxError\u001b[0m\u001b[1;31m:\u001b[0m invalid syntax\n"
     ]
    }
   ],
   "source": [
    "global=1"
   ]
  },
  {
   "cell_type": "markdown",
   "metadata": {},
   "source": [
    "Variables"
   ]
  },
  {
   "cell_type": "code",
   "execution_count": 4,
   "metadata": {},
   "outputs": [],
   "source": [
    "a=10\n",
    "b=5.5\n",
    "c=\"AIML\"\n",
    "a,b,c=10,5,\"ML\"\n",
    "a=b=c=\"AIML\""
   ]
  },
  {
   "cell_type": "markdown",
   "metadata": {},
   "source": [
    "Datatypes"
   ]
  },
  {
   "cell_type": "code",
   "execution_count": 5,
   "metadata": {},
   "outputs": [
    {
     "name": "stdout",
     "output_type": "stream",
     "text": [
      "5 is of type <class 'int'>\n"
     ]
    }
   ],
   "source": [
    "a=5\n",
    "print(a,\"is of type\",type(a))"
   ]
  },
  {
   "cell_type": "code",
   "execution_count": 6,
   "metadata": {},
   "outputs": [
    {
     "name": "stdout",
     "output_type": "stream",
     "text": [
      "1457151371632\n",
      "1457151371632\n"
     ]
    }
   ],
   "source": [
    "x=3\n",
    "y=3\n",
    "print(id(x))\n",
    "print(id(y))"
   ]
  },
  {
   "cell_type": "code",
   "execution_count": 7,
   "metadata": {},
   "outputs": [
    {
     "name": "stdout",
     "output_type": "stream",
     "text": [
      "1457151371600\n"
     ]
    }
   ],
   "source": [
    "z=2\n",
    "print(id(z))"
   ]
  },
  {
   "cell_type": "markdown",
   "metadata": {},
   "source": [
    "Numbers(int,float,complex nos.) Boolean, List, set, tuple, dictionary, string"
   ]
  },
  {
   "cell_type": "code",
   "execution_count": 10,
   "metadata": {},
   "outputs": [
    {
     "name": "stdout",
     "output_type": "stream",
     "text": [
      "hello world\n",
      "h\n",
      "d\n",
      "d\n"
     ]
    }
   ],
   "source": [
    "s=\"hello world\"\n",
    "print(s)\n",
    "print(s[0])\n",
    "print(s[len(s)-1]) #s[-1]\n",
    "print(s[-1])"
   ]
  },
  {
   "cell_type": "markdown",
   "metadata": {},
   "source": [
    "List : ordered collection of items, it is mutable."
   ]
  },
  {
   "cell_type": "code",
   "execution_count": 12,
   "metadata": {},
   "outputs": [
    {
     "name": "stdout",
     "output_type": "stream",
     "text": [
      "20.5\n",
      "[10, 25.5, 'hello', 'world']\n"
     ]
    }
   ],
   "source": [
    "a=[10,20.5,\"hello\",'world']\n",
    "print(a[1])\n",
    "a[1]=25.5\n",
    "print(a)"
   ]
  },
  {
   "cell_type": "markdown",
   "metadata": {},
   "source": [
    "Tuple: immutable collection of ordered elements"
   ]
  },
  {
   "cell_type": "code",
   "execution_count": 14,
   "metadata": {},
   "outputs": [
    {
     "name": "stdout",
     "output_type": "stream",
     "text": [
      "lol\n"
     ]
    },
    {
     "ename": "TypeError",
     "evalue": "'tuple' object does not support item assignment",
     "output_type": "error",
     "traceback": [
      "\u001b[1;31m---------------------------------------------------------------------------\u001b[0m",
      "\u001b[1;31mTypeError\u001b[0m                                 Traceback (most recent call last)",
      "\u001b[1;32mc:\\Users\\user\\Keerthana M\\class.ipynb Cell 15'\u001b[0m in \u001b[0;36m<cell line: 3>\u001b[1;34m()\u001b[0m\n\u001b[0;32m      <a href='vscode-notebook-cell:/c%3A/Users/user/Keerthana%20M/class.ipynb#ch0000017?line=0'>1</a>\u001b[0m t\u001b[39m=\u001b[39m(\u001b[39m1\u001b[39m,\u001b[39m1.5\u001b[39m,\u001b[39m\"\u001b[39m\u001b[39mlol\u001b[39m\u001b[39m\"\u001b[39m)\n\u001b[0;32m      <a href='vscode-notebook-cell:/c%3A/Users/user/Keerthana%20M/class.ipynb#ch0000017?line=1'>2</a>\u001b[0m \u001b[39mprint\u001b[39m(t[\u001b[39m2\u001b[39m])\n\u001b[1;32m----> <a href='vscode-notebook-cell:/c%3A/Users/user/Keerthana%20M/class.ipynb#ch0000017?line=2'>3</a>\u001b[0m t[\u001b[39m1\u001b[39m]\u001b[39m=\u001b[39m\u001b[39m2.3\u001b[39m\n\u001b[0;32m      <a href='vscode-notebook-cell:/c%3A/Users/user/Keerthana%20M/class.ipynb#ch0000017?line=3'>4</a>\u001b[0m \u001b[39mprint\u001b[39m(t)\n",
      "\u001b[1;31mTypeError\u001b[0m: 'tuple' object does not support item assignment"
     ]
    }
   ],
   "source": [
    "t=(1,1.5,\"lol\")\n",
    "print(t[2])\n",
    "t[1]=2.3\n",
    "print(t)\n"
   ]
  },
  {
   "cell_type": "markdown",
   "metadata": {},
   "source": [
    "Set: unordered that is random ordered collection of elements, the duplicate values r always eliminated.\n"
   ]
  },
  {
   "cell_type": "code",
   "execution_count": 15,
   "metadata": {},
   "outputs": [
    {
     "name": "stdout",
     "output_type": "stream",
     "text": [
      "{50, 20, 40, 10, 30}\n"
     ]
    }
   ],
   "source": [
    "a={10,20,20,30,40,40,50}\n",
    "print(a)"
   ]
  },
  {
   "cell_type": "code",
   "execution_count": 16,
   "metadata": {},
   "outputs": [
    {
     "ename": "TypeError",
     "evalue": "'set' object is not subscriptable",
     "output_type": "error",
     "traceback": [
      "\u001b[1;31m---------------------------------------------------------------------------\u001b[0m",
      "\u001b[1;31mTypeError\u001b[0m                                 Traceback (most recent call last)",
      "\u001b[1;32mc:\\Users\\user\\Keerthana M\\class.ipynb Cell 18'\u001b[0m in \u001b[0;36m<cell line: 1>\u001b[1;34m()\u001b[0m\n\u001b[1;32m----> <a href='vscode-notebook-cell:/c%3A/Users/user/Keerthana%20M/class.ipynb#ch0000021?line=0'>1</a>\u001b[0m \u001b[39mprint\u001b[39m(a[\u001b[39m1\u001b[39;49m])\n",
      "\u001b[1;31mTypeError\u001b[0m: 'set' object is not subscriptable"
     ]
    }
   ],
   "source": [
    "print(a[1])"
   ]
  },
  {
   "cell_type": "markdown",
   "metadata": {},
   "source": [
    "Dictionary: has a key- value pair"
   ]
  },
  {
   "cell_type": "code",
   "execution_count": 19,
   "metadata": {},
   "outputs": [
    {
     "name": "stdout",
     "output_type": "stream",
     "text": [
      "apple\n"
     ]
    },
    {
     "ename": "KeyError",
     "evalue": "'apple'",
     "output_type": "error",
     "traceback": [
      "\u001b[1;31m---------------------------------------------------------------------------\u001b[0m",
      "\u001b[1;31mKeyError\u001b[0m                                  Traceback (most recent call last)",
      "\u001b[1;32mc:\\Users\\user\\Keerthana M\\class.ipynb Cell 20'\u001b[0m in \u001b[0;36m<cell line: 3>\u001b[1;34m()\u001b[0m\n\u001b[0;32m      <a href='vscode-notebook-cell:/c%3A/Users/user/Keerthana%20M/class.ipynb#ch0000022?line=0'>1</a>\u001b[0m d \u001b[39m=\u001b[39m {\u001b[39m'\u001b[39m\u001b[39ma\u001b[39m\u001b[39m'\u001b[39m:\u001b[39m'\u001b[39m\u001b[39mapple\u001b[39m\u001b[39m'\u001b[39m,\u001b[39m'\u001b[39m\u001b[39mb\u001b[39m\u001b[39m'\u001b[39m:\u001b[39m'\u001b[39m\u001b[39mbat\u001b[39m\u001b[39m'\u001b[39m}\n\u001b[0;32m      <a href='vscode-notebook-cell:/c%3A/Users/user/Keerthana%20M/class.ipynb#ch0000022?line=1'>2</a>\u001b[0m \u001b[39mprint\u001b[39m(d[\u001b[39m'\u001b[39m\u001b[39ma\u001b[39m\u001b[39m'\u001b[39m])\n\u001b[1;32m----> <a href='vscode-notebook-cell:/c%3A/Users/user/Keerthana%20M/class.ipynb#ch0000022?line=2'>3</a>\u001b[0m \u001b[39mprint\u001b[39m(d[\u001b[39m'\u001b[39;49m\u001b[39mapple\u001b[39;49m\u001b[39m'\u001b[39;49m])\n",
      "\u001b[1;31mKeyError\u001b[0m: 'apple'"
     ]
    }
   ],
   "source": [
    "d = {'a':'apple','b':'bat'}\n",
    "print(d['a'])\n",
    "print(d['apple'])"
   ]
  },
  {
   "cell_type": "markdown",
   "metadata": {},
   "source": [
    "Boolean"
   ]
  },
  {
   "cell_type": "code",
   "execution_count": 20,
   "metadata": {},
   "outputs": [
    {
     "name": "stdout",
     "output_type": "stream",
     "text": [
      "<class 'bool'>\n"
     ]
    }
   ],
   "source": [
    "a=True\n",
    "print(type(a))\n"
   ]
  },
  {
   "cell_type": "markdown",
   "metadata": {},
   "source": [
    "Datatype conversion"
   ]
  },
  {
   "cell_type": "code",
   "execution_count": 21,
   "metadata": {},
   "outputs": [
    {
     "data": {
      "text/plain": [
       "100"
      ]
     },
     "execution_count": 21,
     "metadata": {},
     "output_type": "execute_result"
    }
   ],
   "source": [
    "float(5)\n",
    "int(100.5)\n"
   ]
  },
  {
   "cell_type": "code",
   "execution_count": 22,
   "metadata": {},
   "outputs": [
    {
     "data": {
      "text/plain": [
       "5.0"
      ]
     },
     "execution_count": 22,
     "metadata": {},
     "output_type": "execute_result"
    }
   ],
   "source": [
    "float(5)"
   ]
  },
  {
   "cell_type": "code",
   "execution_count": 25,
   "metadata": {},
   "outputs": [
    {
     "name": "stdout",
     "output_type": "stream",
     "text": [
      "[1, 2, 3]\n",
      "{1, 2, 3}\n"
     ]
    }
   ],
   "source": [
    "a=[1,2,3]\n",
    "print(a)\n",
    "s=set(a)\n",
    "print(s)"
   ]
  },
  {
   "cell_type": "code",
   "execution_count": 29,
   "metadata": {},
   "outputs": [
    {
     "data": {
      "text/plain": [
       "['h', 'e', 'l', 'l', 'o']"
      ]
     },
     "execution_count": 29,
     "metadata": {},
     "output_type": "execute_result"
    }
   ],
   "source": [
    "str=\"hello\"\n",
    "list(str)\n",
    "\n",
    "#print(list(str))"
   ]
  },
  {
   "cell_type": "code",
   "execution_count": 30,
   "metadata": {},
   "outputs": [
    {
     "name": "stdout",
     "output_type": "stream",
     "text": [
      "\n",
      "    function that doubles a number\n",
      "    \n"
     ]
    }
   ],
   "source": [
    "#COMMENTS- singleline, multiline\n",
    "#docstring- tells what the method does. Here  we use __doc__ to get the docstring of the fn\n",
    "\n",
    "#function that doubles a given number.\n",
    "\n",
    "def double(num):\n",
    "    \"\"\"\n",
    "    function that doubles a number\n",
    "    \"\"\"\n",
    "    return 2*num\n",
    "print(double.__doc__)\n"
   ]
  },
  {
   "cell_type": "code",
   "execution_count": 31,
   "metadata": {},
   "outputs": [
    {
     "name": "stdout",
     "output_type": "stream",
     "text": [
      "0\n",
      "1\n",
      "2\n",
      "3\n",
      "4\n",
      "5\n",
      "6\n",
      "7\n",
      "8\n",
      "9\n"
     ]
    }
   ],
   "source": [
    "#indentation is compulrsory.\n",
    "for i in range(10):\n",
    "    print(i)\n"
   ]
  },
  {
   "cell_type": "code",
   "execution_count": 32,
   "metadata": {},
   "outputs": [
    {
     "name": "stdout",
     "output_type": "stream",
     "text": [
      "30\n"
     ]
    }
   ],
   "source": [
    "#SINGLE LINE AND MULTILINE STATEMENTS use '\\'\n",
    "a=1+2+3+\\\n",
    "    4+5+\\\n",
    "        7+8\n",
    "print(a)"
   ]
  },
  {
   "cell_type": "code",
   "execution_count": 39,
   "metadata": {},
   "outputs": [
    {
     "name": "stdout",
     "output_type": "stream",
     "text": [
      "congrats keerthana you wrote 100  lines of code\n"
     ]
    }
   ],
   "source": [
    "#to print int and srting in the same line\n",
    "user=\"keerthana\"\n",
    "lines=100\n",
    "print(\"congrats\",user,\"you wrote\",lines,\" lines of code\")"
   ]
  },
  {
   "cell_type": "code",
   "execution_count": 43,
   "metadata": {},
   "outputs": [
    {
     "name": "stdout",
     "output_type": "stream",
     "text": [
      "the value of a is 20\n",
      "the value of a is 20 and b is 25\n",
      "the value of b is 25 and a is 20\n",
      "hello keerthana hi\n",
      "the story of  a, b  and c\n"
     ]
    }
   ],
   "source": [
    "#input and output using .format() function\n",
    "a=20\n",
    "print(\"the value of a is\", a)\n",
    "b=25\n",
    "print(\"the value of a is {} and b is {}\".format(a,b))\n",
    "print(\"the value of b is {1} and a is {0}\".format(a,b))\n",
    "\n",
    "#keyword arguments\n",
    "print(\"hello {name} {greeting}\".format(name=\"keerthana\", greeting=\"hi\"))\n",
    "\n",
    "#combining positional argument  and keyword argument\n",
    "print(\"the story of  {0}, {1}  and {other}\".format(\"a\",\"b\",other=\"c\") )\n",
    "1\n"
   ]
  },
  {
   "cell_type": "code",
   "execution_count": 46,
   "metadata": {},
   "outputs": [
    {
     "name": "stdout",
     "output_type": "stream",
     "text": [
      "100\n",
      "<class 'str'>\n"
     ]
    }
   ],
   "source": [
    "#input\n",
    "num=input(\"enter a number\")\n",
    "print(num)\n",
    "print(type(num))"
   ]
  },
  {
   "cell_type": "code",
   "execution_count": 8,
   "metadata": {},
   "outputs": [
    {
     "name": "stdout",
     "output_type": "stream",
     "text": [
      "30\n",
      "-10\n",
      "0.5\n",
      "200\n",
      "True\n",
      "False\n",
      "False\n",
      "True\n",
      "True\n",
      "False\n",
      "True\n",
      "False\n",
      "True\n",
      "False\n",
      "False\n"
     ]
    }
   ],
   "source": [
    "#operators - arithmetic, logical, comparitive, bitwise\n",
    "#arithmetic- +,-,*,/,//**\n",
    " \n",
    "x,y=10,20\n",
    "print(x+y)\n",
    "print(x-y)\n",
    "print(x/y)\n",
    "print(x*y)\n",
    "\n",
    "#comparitive - <,>,>=, <=, !=\n",
    "print(x<y)\n",
    "print(x>y)\n",
    "print(x>=y)\n",
    "print(x<=y)\n",
    "print(x!=y)\n",
    "\n",
    "#logical-  and, or , not\n",
    "a,b=True, False\n",
    "print(a and b)\n",
    "print(a or b)\n",
    "print(not a)\n",
    "\n",
    "\n",
    "\n"
   ]
  },
  {
   "cell_type": "code",
   "execution_count": 10,
   "metadata": {},
   "outputs": [
    {
     "name": "stdout",
     "output_type": "stream",
     "text": [
      "True\n",
      "False\n",
      "False\n",
      "True\n"
     ]
    }
   ],
   "source": [
    "#assignment operators  =, +=, -=, /=, *=\n",
    "#special operators- identity operator -  is and not\n",
    "c,d=3,3\n",
    "print(c is d)\n",
    "print(c is not d)\n",
    "\n",
    "l1 = [1,2,3]\n",
    "l2=[1,2,3]\n",
    "print(l1 is l2)\n",
    "\n",
    "s1=\"hello\"\n",
    "s2=\"hello\"\n",
    "print(s1 is s2)\n"
   ]
  },
  {
   "cell_type": "code",
   "execution_count": 12,
   "metadata": {},
   "outputs": [
    {
     "name": "stdout",
     "output_type": "stream",
     "text": [
      "False\n",
      "True\n",
      "False\n"
     ]
    }
   ],
   "source": [
    "#membership operator - in and not in\n",
    "l1=[1,2,3,4,5]\n",
    "print(7 in l1)\n",
    "print(3 in l1)\n",
    "print(3 not in l1)\n"
   ]
  },
  {
   "cell_type": "code",
   "execution_count": 15,
   "metadata": {},
   "outputs": [
    {
     "name": "stdout",
     "output_type": "stream",
     "text": [
      "positive\n"
     ]
    }
   ],
   "source": [
    "#if and if else\n",
    "#check if a number is positive or not\n",
    "num=4\n",
    "if (num>0):\n",
    "    print(\"positive\")\n",
    "else:\n",
    "    print(\"negetive\")"
   ]
  },
  {
   "cell_type": "code",
   "execution_count": 20,
   "metadata": {},
   "outputs": [
    {
     "name": "stdout",
     "output_type": "stream",
     "text": [
      "zero\n"
     ]
    }
   ],
   "source": [
    "#nested if \n",
    "#check if a number is positive or not\n",
    "num=0\n",
    "if (num>=0):\n",
    "    if(num==0):\n",
    "        print(\"zero\")\n",
    "    else:\n",
    "      print(\"positive\")\n",
    "else:\n",
    "    print(\"negetive\")\n"
   ]
  },
  {
   "cell_type": "code",
   "execution_count": 24,
   "metadata": {},
   "outputs": [
    {
     "name": "stdout",
     "output_type": "stream",
     "text": [
      "b is largest\n",
      "the largest among the numbers 10,20,5 is 20\n"
     ]
    }
   ],
   "source": [
    "#find the largest of 3 nos.\n",
    "a=10\n",
    "b=20\n",
    "c=5\n",
    "\n",
    "if(a>b and a>c):\n",
    "    print(\"a is largest\")\n",
    "elif(b>a and b>c):\n",
    "    print(\"b is largest\")\n",
    "else:\n",
    "    print(\"c is largest\")\n",
    "\n",
    "if(a>b and a>c):\n",
    "    largest= a\n",
    "elif(b>a and b>c):\n",
    "     largest= b\n",
    "else:\n",
    "     largest= c\n",
    "print(\"the largest among the numbers {},{},{} is {}\".format(a,b,c,largest))\n"
   ]
  },
  {
   "cell_type": "code",
   "execution_count": 26,
   "metadata": {},
   "outputs": [
    {
     "name": "stdout",
     "output_type": "stream",
     "text": [
      "the product is : 120\n"
     ]
    }
   ],
   "source": [
    "#while condition- multiply all the items in a list\n",
    "list=[1,2,3,4,5]\n",
    "product =1\n",
    "i=0\n",
    "while i < len(list):\n",
    "    product *= list[i]\n",
    "    i+=1\n",
    "print(\"the product is : {ans}\".format(ans=product))\n",
    "\n"
   ]
  },
  {
   "cell_type": "code",
   "execution_count": 43,
   "metadata": {},
   "outputs": [
    {
     "name": "stdout",
     "output_type": "stream",
     "text": [
      "1 is prime\n"
     ]
    }
   ],
   "source": [
    "#if a given no is prime or not \n",
    "num=input()\n",
    "isDivisible = False\n",
    "i=2\n",
    "while i<int(num):\n",
    "    if num%i == 0:\n",
    "        isDivisible=True\n",
    "        print(\"{} is divisible by {}\".format(num, i))\n",
    "    i+=1\n",
    "if isDivisible:\n",
    "    print(\"{} is not prime\".format(num))\n",
    "else:\n",
    "    print(\"{} is prime\".format(num))"
   ]
  },
  {
   "cell_type": "code",
   "execution_count": 35,
   "metadata": {},
   "outputs": [
    {
     "name": "stdout",
     "output_type": "stream",
     "text": [
      "10\n",
      "20\n",
      "30\n",
      "40\n",
      "50\n"
     ]
    }
   ],
   "source": [
    "#range function - range(start, end, step)\n",
    "#display all the items in a list using range function\n",
    "list = [10,20,30,40,50]\n",
    "for i in range(len(list)):\n",
    "    print(list[i])"
   ]
  },
  {
   "cell_type": "code",
   "execution_count": 42,
   "metadata": {},
   "outputs": [
    {
     "name": "stdout",
     "output_type": "stream",
     "text": [
      "the prime numbers between 10 and 50 are\n",
      "11\n",
      "13\n",
      "17\n",
      "19\n",
      "23\n",
      "29\n",
      "31\n",
      "37\n",
      "41\n",
      "43\n",
      "47\n"
     ]
    }
   ],
   "source": [
    "#print all the prime numbers within a given interval (2 indices)\n",
    "i1=10\n",
    "i2=50\n",
    "print(\"the prime numbers between {} and {} are\".format(i1,i2))\n",
    "for num in range(i1,i2):\n",
    "    if num>1:\n",
    "        flag = False\n",
    "        for i in range(2,num):\n",
    "           if(num%i==0):\n",
    "            flag=True\n",
    "        if not flag:\n",
    "          print(num)   "
   ]
  },
  {
   "cell_type": "code",
   "execution_count": 44,
   "metadata": {},
   "outputs": [
    {
     "name": "stdout",
     "output_type": "stream",
     "text": [
      "{1: 'a', 2: 'b'}\n"
     ]
    }
   ],
   "source": [
    "#methods in dictionary - has key, value\n",
    "#dict create\n",
    "myDict={}\n",
    "myDict={1:\"a\",2:\"b\"}\n",
    "print(myDict)"
   ]
  },
  {
   "cell_type": "code",
   "execution_count": 46,
   "metadata": {},
   "outputs": [
    {
     "name": "stdout",
     "output_type": "stream",
     "text": [
      "{1: 'a', 2: 'b'}\n"
     ]
    }
   ],
   "source": [
    "myDict=dict()\n",
    "#dict with a list of tuples \n",
    "myDict=dict([(1,'a'),(2,'b')])\n",
    "print(myDict)"
   ]
  },
  {
   "cell_type": "code",
   "execution_count": 48,
   "metadata": {},
   "outputs": [
    {
     "name": "stdout",
     "output_type": "stream",
     "text": [
      "a\n",
      "b\n"
     ]
    }
   ],
   "source": [
    "#accssing dict elements using get \n",
    "myDict={1:'a',2:'b'}\n",
    "print(myDict.get(1))\n",
    "print(myDict[2])"
   ]
  },
  {
   "cell_type": "code",
   "execution_count": 50,
   "metadata": {},
   "outputs": [
    {
     "name": "stdout",
     "output_type": "stream",
     "text": [
      "{1: 'a', 2: 'z', '2': 'z'}\n"
     ]
    }
   ],
   "source": [
    "#update \n",
    "myDict['2']='z'\n",
    "myDict[2]='z'\n",
    "print(myDict)"
   ]
  },
  {
   "cell_type": "code",
   "execution_count": 56,
   "metadata": {},
   "outputs": [
    {
     "name": "stdout",
     "output_type": "stream",
     "text": [
      "{1: 'a', '2': 'z', 3: 'e'}\n"
     ]
    }
   ],
   "source": [
    "myDict[3]='e'\n",
    "print(myDict)"
   ]
  },
  {
   "cell_type": "code",
   "execution_count": 57,
   "metadata": {},
   "outputs": [
    {
     "name": "stdout",
     "output_type": "stream",
     "text": [
      "{1: 'a', '2': 'z'}\n"
     ]
    }
   ],
   "source": [
    "myDict.pop(3)\n",
    "print(myDict)\n"
   ]
  },
  {
   "cell_type": "code",
   "execution_count": 54,
   "metadata": {},
   "outputs": [
    {
     "name": "stdout",
     "output_type": "stream",
     "text": [
      "{1: 'a', '2': 'z'}\n"
     ]
    }
   ],
   "source": [
    "myDict.pop(2)\n",
    "print(myDict)"
   ]
  },
  {
   "cell_type": "code",
   "execution_count": 58,
   "metadata": {},
   "outputs": [
    {
     "name": "stdout",
     "output_type": "stream",
     "text": [
      "dict_items([(2, 4), (3, 9), (4, 16), (5, 25)])\n",
      "dict_keys([2, 3, 4, 5])\n",
      "dict_values([4, 9, 16, 25])\n"
     ]
    }
   ],
   "source": [
    "#creating dictionary views\n",
    "dict={2:4,3:9,4:16,5:25}\n",
    "print(dict.items())\n",
    "print(dict.keys())\n",
    "print(dict.values())\n"
   ]
  },
  {
   "cell_type": "code",
   "execution_count": 59,
   "metadata": {},
   "outputs": [
    {
     "name": "stdout",
     "output_type": "stream",
     "text": [
      "{'a': 1, 'b': 2, 'c': 3, 'd': 4, 'e': 5}\n",
      "{'ax': 2, 'bx': 4, 'cx': 6, 'dx': 8, 'ex': 10}\n"
     ]
    }
   ],
   "source": [
    "#dictionary comprehensions\n",
    "d={'a':1,'b':2,'c':3,'d':4,'e':5}\n",
    "print(d)\n",
    "d={k+'x':v*2 for k,v in d.items() }\n",
    "print(d)"
   ]
  },
  {
   "cell_type": "code",
   "execution_count": 2,
   "metadata": {},
   "outputs": [
    {
     "name": "stdout",
     "output_type": "stream",
     "text": [
      "['a', (1, 2), [34, 56]]\n",
      "3\n"
     ]
    }
   ],
   "source": [
    "#list operations\n",
    "myList=[]\n",
    "list=[1,2,3]\n",
    "list=['a',(1,2),[34,56]]\n",
    "print(list)\n",
    "print(len(list))"
   ]
  },
  {
   "cell_type": "code",
   "execution_count": 4,
   "metadata": {},
   "outputs": [
    {
     "name": "stdout",
     "output_type": "stream",
     "text": [
      "[1, 2, 3, 4]\n"
     ]
    }
   ],
   "source": [
    "#append\n",
    "list=[1,2,3]\n",
    "list.append(4)\n",
    "print(list)"
   ]
  },
  {
   "cell_type": "code",
   "execution_count": 6,
   "metadata": {},
   "outputs": [
    {
     "name": "stdout",
     "output_type": "stream",
     "text": [
      "[1, 2, 2.5, 3, 4]\n"
     ]
    }
   ],
   "source": [
    "#insert \n",
    "list.insert(2,2.5)\n",
    "print(list)"
   ]
  },
  {
   "cell_type": "code",
   "execution_count": 9,
   "metadata": {},
   "outputs": [
    {
     "ename": "ValueError",
     "evalue": "list.remove(x): x not in list",
     "output_type": "error",
     "traceback": [
      "\u001b[1;31m---------------------------------------------------------------------------\u001b[0m",
      "\u001b[1;31mValueError\u001b[0m                                Traceback (most recent call last)",
      "\u001b[1;32mc:\\Users\\user\\Keerthana M\\class.ipynb Cell 56'\u001b[0m in \u001b[0;36m<cell line: 2>\u001b[1;34m()\u001b[0m\n\u001b[0;32m      <a href='vscode-notebook-cell:/c%3A/Users/user/Keerthana%20M/class.ipynb#ch0000055?line=0'>1</a>\u001b[0m \u001b[39m#remove\u001b[39;00m\n\u001b[1;32m----> <a href='vscode-notebook-cell:/c%3A/Users/user/Keerthana%20M/class.ipynb#ch0000055?line=1'>2</a>\u001b[0m \u001b[39mlist\u001b[39;49m\u001b[39m.\u001b[39;49mremove(\u001b[39m2.5\u001b[39;49m)\n\u001b[0;32m      <a href='vscode-notebook-cell:/c%3A/Users/user/Keerthana%20M/class.ipynb#ch0000055?line=2'>3</a>\u001b[0m \u001b[39mprint\u001b[39m(\u001b[39mlist\u001b[39m)\n",
      "\u001b[1;31mValueError\u001b[0m: list.remove(x): x not in list"
     ]
    }
   ],
   "source": [
    "#remove\n",
    "list.remove(2.5)\n",
    "print(list)"
   ]
  },
  {
   "cell_type": "code",
   "execution_count": 11,
   "metadata": {},
   "outputs": [
    {
     "name": "stdout",
     "output_type": "stream",
     "text": [
      "[1, 2, 3, 4, [9, 8, 7], [9, 8, 7]]\n"
     ]
    }
   ],
   "source": [
    "list2=[9,8,7]\n",
    "list.append(list2)\n",
    "print(list)"
   ]
  },
  {
   "cell_type": "code",
   "execution_count": 12,
   "metadata": {},
   "outputs": [
    {
     "name": "stdout",
     "output_type": "stream",
     "text": [
      "[1, 2, 3, 4, [9, 8, 7]]\n"
     ]
    }
   ],
   "source": [
    "#remove an item from list\n",
    "list.pop()\n",
    "print(list)"
   ]
  },
  {
   "cell_type": "code",
   "execution_count": 13,
   "metadata": {},
   "outputs": [
    {
     "name": "stdout",
     "output_type": "stream",
     "text": [
      "[1, 2, 3, [9, 8, 7]]\n"
     ]
    }
   ],
   "source": [
    "list.pop(3)\n",
    "print(list)"
   ]
  },
  {
   "cell_type": "code",
   "execution_count": 14,
   "metadata": {},
   "outputs": [
    {
     "name": "stdout",
     "output_type": "stream",
     "text": [
      "[1, 2, [9, 8, 7]]\n"
     ]
    }
   ],
   "source": [
    "list.remove(3)\n",
    "print(list)"
   ]
  },
  {
   "cell_type": "code",
   "execution_count": 15,
   "metadata": {},
   "outputs": [
    {
     "name": "stdout",
     "output_type": "stream",
     "text": [
      "[2, [9, 8, 7]]\n"
     ]
    }
   ],
   "source": [
    "list.pop(0)\n",
    "print(list)"
   ]
  },
  {
   "cell_type": "code",
   "execution_count": 16,
   "metadata": {},
   "outputs": [
    {
     "name": "stdout",
     "output_type": "stream",
     "text": [
      "['d', 'c', 'b', 'a']\n"
     ]
    }
   ],
   "source": [
    "#reverse\n",
    "list=['a','b','c','d']\n",
    "list.reverse()\n",
    "print(list)"
   ]
  },
  {
   "cell_type": "code",
   "execution_count": 17,
   "metadata": {},
   "outputs": [
    {
     "name": "stdout",
     "output_type": "stream",
     "text": [
      "[10, 34, 38, 98]\n"
     ]
    }
   ],
   "source": [
    "#sort- only works for numbers\n",
    "list=[38,34,98,10]\n",
    "list.sort()\n",
    "print(list)\n"
   ]
  },
  {
   "cell_type": "code",
   "execution_count": 18,
   "metadata": {},
   "outputs": [
    {
     "name": "stdout",
     "output_type": "stream",
     "text": [
      "[10, 34, 38, 98]\n"
     ]
    }
   ],
   "source": [
    "#reference existing list with another list\n",
    "newlist=list\n",
    "print(newlist)"
   ]
  },
  {
   "cell_type": "code",
   "execution_count": 19,
   "metadata": {},
   "outputs": [
    {
     "name": "stdout",
     "output_type": "stream",
     "text": [
      "[10, 34, 98]\n",
      "[10, 34, 98]\n"
     ]
    }
   ],
   "source": [
    "newlist.pop(2)\n",
    "print(list)\n",
    "print(newlist)"
   ]
  },
  {
   "cell_type": "code",
   "execution_count": 20,
   "metadata": {},
   "outputs": [
    {
     "name": "stdout",
     "output_type": "stream",
     "text": [
      "['this', 'is', 'an', 'AI', 'course']\n"
     ]
    }
   ],
   "source": [
    "#split a string to create a list\n",
    "string = \"this is an AI course\"\n",
    "split_str=string.split()\n",
    "print(split_str)\n"
   ]
  },
  {
   "cell_type": "code",
   "execution_count": 22,
   "metadata": {},
   "outputs": [
    {
     "name": "stdout",
     "output_type": "stream",
     "text": [
      "['th', 's  ', 's  an AI course']\n"
     ]
    }
   ],
   "source": [
    "string = \"this  is  an AI course\"\n",
    "split_str=string.split(\"i\")\n",
    "print(split_str)"
   ]
  },
  {
   "cell_type": "code",
   "execution_count": 23,
   "metadata": {},
   "outputs": [
    {
     "name": "stdout",
     "output_type": "stream",
     "text": [
      "4\n"
     ]
    }
   ],
   "source": [
    "#indexing and slicing\n",
    "list1=[1,2,3,4,5,6]\n",
    "list2=[7,8,9,10]\n",
    "print(list1[3])"
   ]
  },
  {
   "cell_type": "code",
   "execution_count": 25,
   "metadata": {},
   "outputs": [
    {
     "name": "stdout",
     "output_type": "stream",
     "text": [
      "[3, 4, 5, 6]\n"
     ]
    }
   ],
   "source": [
    "print(list1[2:])"
   ]
  },
  {
   "cell_type": "code",
   "execution_count": 26,
   "metadata": {},
   "outputs": [
    {
     "name": "stdout",
     "output_type": "stream",
     "text": [
      "[1, 3, 5]\n"
     ]
    }
   ],
   "source": [
    "print(list1[::2])"
   ]
  },
  {
   "cell_type": "code",
   "execution_count": 27,
   "metadata": {},
   "outputs": [
    {
     "name": "stdout",
     "output_type": "stream",
     "text": [
      "[1, 2, 3, 4, 5, 6, 7, 8, 9, 10]\n"
     ]
    }
   ],
   "source": [
    "newlist=list1+list2\n",
    "print(newlist)"
   ]
  },
  {
   "cell_type": "code",
   "execution_count": 28,
   "metadata": {},
   "outputs": [
    {
     "name": "stdout",
     "output_type": "stream",
     "text": [
      "[1, 2, 3, 4, 5, 6, 7, 8, 9, 10, 2]\n"
     ]
    }
   ],
   "source": [
    "newlist.append(2)\n",
    "print(newlist)"
   ]
  },
  {
   "cell_type": "code",
   "execution_count": 30,
   "metadata": {},
   "outputs": [
    {
     "name": "stdout",
     "output_type": "stream",
     "text": [
      "1\n"
     ]
    }
   ],
   "source": [
    "#count\n",
    "print(newlist.count(1))"
   ]
  },
  {
   "cell_type": "code",
   "execution_count": 31,
   "metadata": {},
   "outputs": [
    {
     "name": "stdout",
     "output_type": "stream",
     "text": [
      "[0, 1, 4, 9, 16, 25, 36, 49, 64, 81]\n"
     ]
    }
   ],
   "source": [
    "#square list without comprehensions \n",
    "square = []\n",
    "for i in range(10):\n",
    "    square.append(i*i)\n",
    "print(square)    "
   ]
  },
  {
   "cell_type": "code",
   "execution_count": 32,
   "metadata": {},
   "outputs": [
    {
     "name": "stdout",
     "output_type": "stream",
     "text": [
      "[0, 1, 4, 9, 16, 25, 36, 49, 64, 81]\n"
     ]
    }
   ],
   "source": [
    "#square list with comprehensions \n",
    "square = [i**2 for i in range (10)]\n",
    "print(square)"
   ]
  },
  {
   "cell_type": "code",
   "execution_count": 34,
   "metadata": {},
   "outputs": [
    {
     "name": "stdout",
     "output_type": "stream",
     "text": [
      "[16, 25, 36, 49, 64, 81]\n"
     ]
    }
   ],
   "source": [
    "#from the square list create a new list that has no > 10\n",
    "newlist=[i for i in square if i>10]\n",
    "print(newlist)"
   ]
  },
  {
   "cell_type": "code",
   "execution_count": 37,
   "metadata": {},
   "outputs": [
    {
     "name": "stdout",
     "output_type": "stream",
     "text": [
      "[(0, 0), (1, 1), (2, 4), (3, 9), (4, 16), (5, 25), (6, 36), (7, 49), (8, 64), (9, 81), (10, 100), (11, 121), (12, 144), (13, 169), (14, 196), (15, 225)]\n"
     ]
    }
   ],
   "source": [
    "#list with tuples for all nos from 0 to 15, the no and sq of the no, (num,sqnum)\n",
    "newlist=[(i,i**2) for i in range(16)]\n",
    "print(newlist)\n"
   ]
  },
  {
   "cell_type": "markdown",
   "metadata": {},
   "source": [
    "SETS- unordered data type"
   ]
  },
  {
   "cell_type": "code",
   "execution_count": 38,
   "metadata": {},
   "outputs": [
    {
     "name": "stdout",
     "output_type": "stream",
     "text": [
      "{1, 2, 3, 4, 5}\n",
      "<class 'set'>\n"
     ]
    }
   ],
   "source": [
    "#create\n",
    "s={1,2,3,4,4,5,5}\n",
    "print(s)\n",
    "print(type(s))\n"
   ]
  },
  {
   "cell_type": "code",
   "execution_count": 39,
   "metadata": {},
   "outputs": [
    {
     "name": "stdout",
     "output_type": "stream",
     "text": [
      "{1, 2, 3, 4, 5}\n"
     ]
    }
   ],
   "source": [
    "s=set([1,2,3,4,5,4])\n",
    "print(s)"
   ]
  },
  {
   "cell_type": "code",
   "execution_count": 40,
   "metadata": {},
   "outputs": [
    {
     "ename": "TypeError",
     "evalue": "'set' object is not subscriptable",
     "output_type": "error",
     "traceback": [
      "\u001b[1;31m---------------------------------------------------------------------------\u001b[0m",
      "\u001b[1;31mTypeError\u001b[0m                                 Traceback (most recent call last)",
      "\u001b[1;32mc:\\Users\\user\\Keerthana M\\class.ipynb Cell 81'\u001b[0m in \u001b[0;36m<cell line: 1>\u001b[1;34m()\u001b[0m\n\u001b[1;32m----> <a href='vscode-notebook-cell:/c%3A/Users/user/Keerthana%20M/class.ipynb#ch0000080?line=0'>1</a>\u001b[0m \u001b[39mprint\u001b[39m(s[\u001b[39m2\u001b[39;49m])\n",
      "\u001b[1;31mTypeError\u001b[0m: 'set' object is not subscriptable"
     ]
    }
   ],
   "source": [
    "print(s[2])\n"
   ]
  },
  {
   "cell_type": "code",
   "execution_count": 41,
   "metadata": {},
   "outputs": [
    {
     "name": "stdout",
     "output_type": "stream",
     "text": [
      "{1, 2, 3, 4, 5, 7}\n"
     ]
    }
   ],
   "source": [
    "s.add(7)\n",
    "print(s)"
   ]
  },
  {
   "cell_type": "code",
   "execution_count": 42,
   "metadata": {},
   "outputs": [
    {
     "name": "stdout",
     "output_type": "stream",
     "text": [
      "{1, 2, 3, 4, 5, 6, 7, 8}\n"
     ]
    }
   ],
   "source": [
    "s.update([6,8])\n",
    "print(s)"
   ]
  },
  {
   "cell_type": "code",
   "execution_count": 43,
   "metadata": {},
   "outputs": [
    {
     "name": "stdout",
     "output_type": "stream",
     "text": [
      "{1, 2, 3, 4, 5, 6, 7, 8}\n"
     ]
    }
   ],
   "source": [
    "s.update({3,4})\n",
    "print(s)"
   ]
  },
  {
   "cell_type": "code",
   "execution_count": 44,
   "metadata": {},
   "outputs": [
    {
     "name": "stdout",
     "output_type": "stream",
     "text": [
      "{2, 3, 6, 7, 8}\n"
     ]
    }
   ],
   "source": [
    "#remove- remove, pop, discard\n",
    "s.discard(5)\n",
    "s.pop() #removes a random value\n",
    "s.remove(4)\n",
    "print(s)"
   ]
  },
  {
   "cell_type": "code",
   "execution_count": 45,
   "metadata": {},
   "outputs": [
    {
     "name": "stdout",
     "output_type": "stream",
     "text": [
      "{1, 2, 3, 4, 5, 6, 7, 8}\n"
     ]
    }
   ],
   "source": [
    "#set operations - union, intersection, difference\n",
    "s1 = {1,2,3,4,5}\n",
    "s2 = {4,5,6,7,8}\n",
    "print(s1|s2) # | is the union op"
   ]
  },
  {
   "cell_type": "code",
   "execution_count": 46,
   "metadata": {},
   "outputs": [
    {
     "name": "stdout",
     "output_type": "stream",
     "text": [
      "{4, 5}\n"
     ]
    }
   ],
   "source": [
    "print(s1&s2)"
   ]
  },
  {
   "cell_type": "code",
   "execution_count": 47,
   "metadata": {},
   "outputs": [
    {
     "name": "stdout",
     "output_type": "stream",
     "text": [
      "{1, 2, 3}\n"
     ]
    }
   ],
   "source": [
    "print(s1-s2)"
   ]
  },
  {
   "cell_type": "code",
   "execution_count": 48,
   "metadata": {},
   "outputs": [
    {
     "name": "stdout",
     "output_type": "stream",
     "text": [
      "{1, 2, 3}\n"
     ]
    }
   ],
   "source": [
    "print(s1.difference(s2))"
   ]
  },
  {
   "cell_type": "code",
   "execution_count": 69,
   "metadata": {},
   "outputs": [
    {
     "name": "stdout",
     "output_type": "stream",
     "text": [
      "{1, 2, 3, 6, 7, 8}\n"
     ]
    }
   ],
   "source": [
    "#symmetric difference- gives ll the elements except the common ones\n",
    "print((s1) ^ (s2))"
   ]
  },
  {
   "cell_type": "code",
   "execution_count": 50,
   "metadata": {},
   "outputs": [
    {
     "data": {
      "text/plain": [
       "False"
      ]
     },
     "execution_count": 50,
     "metadata": {},
     "output_type": "execute_result"
    }
   ],
   "source": [
    "#subset \n",
    "s1.issubset(s2)"
   ]
  },
  {
   "cell_type": "code",
   "execution_count": 51,
   "metadata": {},
   "outputs": [
    {
     "data": {
      "text/plain": [
       "False"
      ]
     },
     "execution_count": 51,
     "metadata": {},
     "output_type": "execute_result"
    }
   ],
   "source": [
    "#superset\n",
    "s1.issuperset(s2)"
   ]
  },
  {
   "cell_type": "code",
   "execution_count": 52,
   "metadata": {},
   "outputs": [
    {
     "name": "stdout",
     "output_type": "stream",
     "text": [
      "frozenset({1, 2, 3, 4, 5})\n"
     ]
    }
   ],
   "source": [
    "#frozenset - all the elems are freezed and cannot change \n",
    "set=frozenset([1,2,3,4,5])\n",
    "print(set)\n",
    "#any op pn 2 frozen sets will give a frozen set "
   ]
  },
  {
   "cell_type": "markdown",
   "metadata": {},
   "source": [
    "STRINGS"
   ]
  },
  {
   "cell_type": "code",
   "execution_count": 53,
   "metadata": {},
   "outputs": [
    {
     "name": "stdout",
     "output_type": "stream",
     "text": [
      "helloworld\n"
     ]
    }
   ],
   "source": [
    "str=\"hello\"\n",
    "str2=\"world\"\n",
    "print(str+str2)"
   ]
  },
  {
   "cell_type": "code",
   "execution_count": 54,
   "metadata": {},
   "outputs": [
    {
     "name": "stdout",
     "output_type": "stream",
     "text": [
      "hellohellohellohellohellohello\n"
     ]
    }
   ],
   "source": [
    "print(str*6)"
   ]
  },
  {
   "cell_type": "code",
   "execution_count": 55,
   "metadata": {},
   "outputs": [
    {
     "data": {
      "text/plain": [
       "2"
      ]
     },
     "execution_count": 55,
     "metadata": {},
     "output_type": "execute_result"
    }
   ],
   "source": [
    "str = \"hello world\"\n",
    "str.count('o')"
   ]
  },
  {
   "cell_type": "code",
   "execution_count": 59,
   "metadata": {},
   "outputs": [
    {
     "name": "stdout",
     "output_type": "stream",
     "text": [
      "2\n"
     ]
    }
   ],
   "source": [
    "#count occuarence of using iteration\n",
    "count=0\n",
    "for i in range(len(str)):\n",
    "    if str[i]=='o':\n",
    "        count+=1\n",
    "print(count)"
   ]
  },
  {
   "cell_type": "code",
   "execution_count": 60,
   "metadata": {},
   "outputs": [
    {
     "data": {
      "text/plain": [
       "'HELLO'"
      ]
     },
     "execution_count": 60,
     "metadata": {},
     "output_type": "execute_result"
    }
   ],
   "source": [
    "#lower upper\n",
    "\"hello\".upper()"
   ]
  },
  {
   "cell_type": "code",
   "execution_count": 61,
   "metadata": {},
   "outputs": [
    {
     "data": {
      "text/plain": [
       "'hello'"
      ]
     },
     "execution_count": 61,
     "metadata": {},
     "output_type": "execute_result"
    }
   ],
   "source": [
    "\"HELLO\".lower()"
   ]
  },
  {
   "cell_type": "code",
   "execution_count": 73,
   "metadata": {},
   "outputs": [
    {
     "name": "stdout",
     "output_type": "stream",
     "text": [
      "haa\n",
      "aah\n",
      "not palindrome\n"
     ]
    }
   ],
   "source": [
    "#prg to check if a given string is palindrome or not\n",
    "str=input()\n",
    "print(str)\n",
    "rev=''.join(reversed(str))\n",
    "print(rev)\n",
    "if str == rev:\n",
    "    print(\"palindrome\")\n",
    "else:\n",
    "    print(\"not palindrome\")\n"
   ]
  },
  {
   "cell_type": "code",
   "execution_count": 76,
   "metadata": {},
   "outputs": [
    {
     "name": "stdout",
     "output_type": "stream",
     "text": [
      "he there how r u\n",
      "['he', 'how', 'r', 'there', 'u']\n",
      "he\n",
      "how\n",
      "r\n",
      "there\n",
      "u\n"
     ]
    }
   ],
   "source": [
    "#prg to i/p string of multiple words, sort words in the string and display\n",
    "str=input()\n",
    "print(str)\n",
    "s1=str.split()\n",
    "s1.sort()\n",
    "print(s1)\n",
    "for word in s1:\n",
    "    print(word)"
   ]
  },
  {
   "cell_type": "markdown",
   "metadata": {},
   "source": [
    "TUPLES"
   ]
  },
  {
   "cell_type": "code",
   "execution_count": 79,
   "metadata": {},
   "outputs": [
    {
     "name": "stdout",
     "output_type": "stream",
     "text": [
      "[1, 2, 3]\n",
      "<class 'int'>\n",
      "<class 'tuple'>\n"
     ]
    }
   ],
   "source": [
    "#create\n",
    "t=()\n",
    "t=(1,2,3)\n",
    "t=([1,2,3],4,5)\n",
    "print(t[0])\n",
    "s=(2)\n",
    "s1=(2,)\n",
    "print(type(s))\n",
    "print(type(s1))"
   ]
  },
  {
   "cell_type": "code",
   "execution_count": 80,
   "metadata": {},
   "outputs": [
    {
     "data": {
      "text/plain": [
       "([1, 2, 3], 4, 5, 5, 8, 9)"
      ]
     },
     "execution_count": 80,
     "metadata": {},
     "output_type": "execute_result"
    }
   ],
   "source": [
    "t1=([1,2,3],4,5)\n",
    "t2=(5,8,9)\n",
    "t1+t2"
   ]
  },
  {
   "cell_type": "code",
   "execution_count": 84,
   "metadata": {},
   "outputs": [
    {
     "data": {
      "text/plain": [
       "2"
      ]
     },
     "execution_count": 84,
     "metadata": {},
     "output_type": "execute_result"
    }
   ],
   "source": [
    "(t1+t2).count(5)"
   ]
  },
  {
   "cell_type": "code",
   "execution_count": 85,
   "metadata": {},
   "outputs": [
    {
     "name": "stdout",
     "output_type": "stream",
     "text": [
      "2\n"
     ]
    }
   ],
   "source": [
    "print(t1.index(5))"
   ]
  },
  {
   "cell_type": "code",
   "execution_count": 93,
   "metadata": {},
   "outputs": [
    {
     "name": "stdout",
     "output_type": "stream",
     "text": [
      "False\n",
      "True\n",
      "5\n",
      "9\n",
      "22\n",
      "3\n"
     ]
    }
   ],
   "source": [
    "#check of membership of a particular entry, max and min val in tuple\n",
    "print(8 in t1)\n",
    "print(5 in t1)\n",
    "print(min(t2))\n",
    "print(max(t2))\n",
    "print(sum(t2))\n",
    "print(len(t2))"
   ]
  },
  {
   "cell_type": "code",
   "execution_count": 98,
   "metadata": {},
   "outputs": [
    {
     "name": "stdout",
     "output_type": "stream",
     "text": [
      "[1, 2, 3]\n",
      "[1, 2]\n"
     ]
    }
   ],
   "source": [
    "#prog to make list work like a stack\n",
    "stack=[]\n",
    "#adding\n",
    "stack.append(1)\n",
    "stack.append(2)\n",
    "stack.append(3)\n",
    "# display\n",
    "print(stack)\n",
    "# removing \n",
    "stack.pop()\n",
    "print(stack)\n"
   ]
  },
  {
   "cell_type": "code",
   "execution_count": 103,
   "metadata": {},
   "outputs": [
    {
     "name": "stdout",
     "output_type": "stream",
     "text": [
      "[3, 6, 9, 12, 15, 18, 21, 24, 27, 30, 33, 36, 39, 42, 45, 48, 51, 54, 57, 60, 63, 66, 69, 72, 75, 78, 81, 84, 87, 90, 93, 96, 99]\n"
     ]
    }
   ],
   "source": [
    "#create a list having all multiples of 3 from 1 to 100\n",
    "list=[i for i in range(1,101) if i%3==0]\n",
    "print(list)\n"
   ]
  },
  {
   "cell_type": "code",
   "execution_count": 116,
   "metadata": {},
   "outputs": [
    {
     "name": "stdout",
     "output_type": "stream",
     "text": [
      "10\n"
     ]
    }
   ],
   "source": [
    "#prog to sum all the items in a list\n",
    "list1=[1,2,3,4,-1,-2,-3]\n",
    "\n",
    "def sum(lst):\n",
    "    count=0\n",
    "    for i in lst:\n",
    "        if(i>0):\n",
    "         count+=i\n",
    "    print(count)\n",
    "sum(list1)"
   ]
  },
  {
   "cell_type": "code",
   "execution_count": 1,
   "metadata": {},
   "outputs": [
    {
     "data": {
      "text/plain": [
       "['hello1', 'hello2', 'hello3', 'hello4']"
      ]
     },
     "execution_count": 1,
     "metadata": {},
     "output_type": "execute_result"
    }
   ],
   "source": [
    "#prog to add char to the beginning of each element in list \n",
    "list=[1,2,3,4]\n",
    "list=['hello'+str(i) for i in list]\n",
    "list"
   ]
  },
  {
   "cell_type": "code",
   "execution_count": 2,
   "metadata": {},
   "outputs": [
    {
     "name": "stdout",
     "output_type": "stream",
     "text": [
      "150\n"
     ]
    }
   ],
   "source": [
    "#add all the items in the list\n",
    "def add_list(num):\n",
    "    sum=0\n",
    "    for i in num:\n",
    "        sum+=i\n",
    "    return sum\n",
    "l=[10,20,30,40,50]\n",
    "print(add_list(l))"
   ]
  },
  {
   "cell_type": "code",
   "execution_count": 5,
   "metadata": {},
   "outputs": [
    {
     "name": "stdout",
     "output_type": "stream",
     "text": [
      "3\n"
     ]
    }
   ],
   "source": [
    "#list of items, count the length of the string >2 and 1st n last char should be same\n",
    "def cnt_str(words):\n",
    "    count=0\n",
    "    for word in words:\n",
    "        if len(word)>2 and word[0]==word[-1]:\n",
    "            count+=1\n",
    "    return count\n",
    "list=['mom','dad','cat','bob']\n",
    "print(cnt_str(list))\n"
   ]
  },
  {
   "cell_type": "code",
   "execution_count": 25,
   "metadata": {},
   "outputs": [
    {
     "name": "stdout",
     "output_type": "stream",
     "text": [
      "{'lol', 'aaa', 'abc'}\n",
      "['aaa', 'abc', 'lol']\n",
      "<class 'list'>\n",
      "[1, 2, 3, 4, 5]\n"
     ]
    },
    {
     "data": {
      "text/plain": [
       "[1, 2, 3, 4, 5]"
      ]
     },
     "execution_count": 25,
     "metadata": {},
     "output_type": "execute_result"
    }
   ],
   "source": [
    "#remove duplicates from a list\n",
    "#method 1- convert the list to set to remove the duplicates automatically\n",
    "list=['abc','abc','aaa','lol','abc']\n",
    "#s=set(list)\n",
    "#print(s)\n",
    "print(set(list))\n",
    "print(sorted(set(list)))\n",
    "\n",
    "#method 2 - using sorted and set \n",
    "# orted method gives output as list\n",
    "l1=[1,1,2,2,3,4,5,5]\n",
    "#l=[]\n",
    "s=set(l1)\n",
    "l=sorted(s)\n",
    "print(type(l))\n",
    "print(l)\n",
    "\n",
    "#using comprehension\n",
    "l2=[1,1,2,2,3,4,5,5]\n",
    "ul=[]\n",
    "[ul.append(ele) for ele in l2 if ele not in ul]\n",
    "ul"
   ]
  },
  {
   "cell_type": "code",
   "execution_count": 27,
   "metadata": {},
   "outputs": [
    {
     "data": {
      "text/plain": [
       "[5, 5, 4, 3, 2, 2, 1, 1]"
      ]
     },
     "execution_count": 27,
     "metadata": {},
     "output_type": "execute_result"
    }
   ],
   "source": [
    "#reverse a list using slicing and sort the list of numbers in decending order\n",
    "#slicing [start:end:step]\n",
    "list=[1,1,2,2,3,4,5,5]\n",
    "rev_list=list[::-1]\n",
    "rev_list\n",
    "\n"
   ]
  },
  {
   "cell_type": "code",
   "execution_count": 30,
   "metadata": {},
   "outputs": [
    {
     "name": "stdout",
     "output_type": "stream",
     "text": [
      "[1, 2, 3, 10, 20, 55]\n",
      "[55, 20, 10, 3, 2, 1]\n"
     ]
    }
   ],
   "source": [
    "l=[10,2,3,55,1,20]\n",
    "l.sort()\n",
    "print(l)\n",
    "l.sort(reverse=True)\n",
    "print(l)"
   ]
  },
  {
   "cell_type": "code",
   "execution_count": 44,
   "metadata": {},
   "outputs": [
    {
     "name": "stdout",
     "output_type": "stream",
     "text": [
      "3 2\n"
     ]
    }
   ],
   "source": [
    "#liner search on a given list of numbers - function \n",
    "def ls(list,pos):\n",
    "    for i in range(len(list)):\n",
    "        if i==pos:\n",
    "            print(l[i],i)\n",
    "l=[1,2,3,4,5,6]\n",
    "pos=2\n",
    "ls(l,pos)\n"
   ]
  },
  {
   "cell_type": "code",
   "execution_count": null,
   "metadata": {},
   "outputs": [],
   "source": []
  }
 ],
 "metadata": {
  "interpreter": {
   "hash": "a077222d77dfe082b8f1dd562ad70e458ac2ab76993a0b248ab0476e32e9e8dd"
  },
  "kernelspec": {
   "display_name": "Python 3.9.12 ('base')",
   "language": "python",
   "name": "python3"
  },
  "language_info": {
   "codemirror_mode": {
    "name": "ipython",
    "version": 3
   },
   "file_extension": ".py",
   "mimetype": "text/x-python",
   "name": "python",
   "nbconvert_exporter": "python",
   "pygments_lexer": "ipython3",
   "version": "3.9.12"
  },
  "orig_nbformat": 4
 },
 "nbformat": 4,
 "nbformat_minor": 2
}
