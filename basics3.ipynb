{
 "cells": [
  {
   "cell_type": "markdown",
   "metadata": {},
   "source": []
  },
  {
   "cell_type": "markdown",
   "metadata": {},
   "source": [
    "#  REGULAR EXPRESSIONS"
   ]
  },
  {
   "cell_type": "code",
   "execution_count": 2,
   "metadata": {},
   "outputs": [
    {
     "name": "stdout",
     "output_type": "stream",
     "text": [
      "match found\n"
     ]
    }
   ],
   "source": [
    "#metacharaters - [] , \\ , . , ^, $, *, +,?, {}, |, ()\n",
    "#check if the string starts with \"The\" and ends with \"spain\"\n",
    "import re\n",
    "txt=\"The rain in Spain\"\n",
    "x=re.search(\"^The.*Spain$\",txt)\n",
    "if x:\n",
    "    print(\"match found\")\n",
    "else:\n",
    "    print(\"no match found\")\n"
   ]
  },
  {
   "cell_type": "code",
   "execution_count": 3,
   "metadata": {},
   "outputs": [
    {
     "name": "stdout",
     "output_type": "stream",
     "text": [
      "['ai', 'ai']\n"
     ]
    }
   ],
   "source": [
    "#retrun a list containg all occurences of \"ai\"\n",
    "import re\n",
    "txt=\"the rain in spain\"\n",
    "x=re.findall(\"ai\",txt)\n",
    "print(x)"
   ]
  },
  {
   "cell_type": "code",
   "execution_count": 4,
   "metadata": {},
   "outputs": [
    {
     "name": "stdout",
     "output_type": "stream",
     "text": [
      "[]\n",
      "no match\n"
     ]
    }
   ],
   "source": [
    "#to check if a given sub string is present or not \n",
    "import re\n",
    "txt=\"The rain in Spain\"\n",
    "x=re.findall(\"India\",txt)\n",
    "print(x)\n",
    "if x:\n",
    "    print(\"yes atleast one match\")\n",
    "else:\n",
    "    print(\"no match\")"
   ]
  },
  {
   "cell_type": "code",
   "execution_count": 5,
   "metadata": {},
   "outputs": [
    {
     "name": "stdout",
     "output_type": "stream",
     "text": [
      "the9rain9in9spain\n"
     ]
    }
   ],
   "source": [
    "#replace all the white with some number\n",
    "import re\n",
    "txt = \"the rain in spain\"\n",
    "x=re.sub(\"\\s\",\"9\",txt)\n",
    "print(x)"
   ]
  },
  {
   "cell_type": "code",
   "execution_count": 10,
   "metadata": {},
   "outputs": [
    {
     "name": "stdout",
     "output_type": "stream",
     "text": [
      "['hello']\n",
      "[]\n",
      "['hello']\n",
      "['planet']\n"
     ]
    }
   ],
   "source": [
    "#\"hello planet\" - txt starts with pattern he and followed by exactly 2 chars and ends with o\n",
    "import re\n",
    "txt = \"hello planet\"\n",
    "x=re.findall(\"^he..o\",txt)\n",
    "y=re.findall(\"^he??o\",txt) #since 1 or more \n",
    "z=re.findall(\"^he.{2}o\",txt) \n",
    "print(x)\n",
    "print(y)\n",
    "print(z)\n",
    "x=re.findall(\"planet$\",txt)\n",
    "print(x)\n",
    "\n",
    "\n"
   ]
  },
  {
   "cell_type": "code",
   "execution_count": 13,
   "metadata": {},
   "outputs": [
    {
     "name": "stdout",
     "output_type": "stream",
     "text": [
      "['h', 'e', 'a', 'i', 'i', 'a', 'i']\n"
     ]
    }
   ],
   "source": [
    "import re\n",
    "txt = \"the rain in Spain\"\n",
    "#find all the lower case letters from to a to m\n",
    "x=re.findall(\"[a-m]\",txt)\n",
    "print(x)"
   ]
  },
  {
   "cell_type": "code",
   "execution_count": 15,
   "metadata": {},
   "outputs": [
    {
     "name": "stdout",
     "output_type": "stream",
     "text": [
      "['2', '8', '7', '5', '6']\n"
     ]
    }
   ],
   "source": [
    "import re\n",
    "txt=\"this costs 28756 Rupees\"\n",
    "#find all the digits\n",
    "#x=re.findall(\"[0-9]\",txt) \n",
    "x=re.findall(\"\\d\",txt)\n",
    "print(x)"
   ]
  },
  {
   "cell_type": "code",
   "execution_count": 16,
   "metadata": {},
   "outputs": [],
   "source": [
    "#read and write from a csv file\n",
    "import csv\n",
    "with open(\"test.csv\",mode=\"a\",newline=\"\") as f:\n",
    "    writer=csv.writer(f,delimiter=\",\")\n",
    "    writer.writerow([\"Names\",\"City\"])\n",
    "    writer.writerow([\"Keerthana\",\"Banglore\"])"
   ]
  },
  {
   "cell_type": "code",
   "execution_count": 17,
   "metadata": {},
   "outputs": [
    {
     "name": "stdout",
     "output_type": "stream",
     "text": [
      "['Names', 'City']\n",
      "['Keerthana', 'Banglore']\n"
     ]
    }
   ],
   "source": [
    "#reading from csv flie\n",
    "import csv\n",
    "with open(\"test.csv\",mode=\"r\",newline=\"\") as f:\n",
    "    reader=csv.reader(f,delimiter=\",\")\n",
    "    for row in reader:\n",
    "        print(row)"
   ]
  },
  {
   "cell_type": "code",
   "execution_count": null,
   "metadata": {},
   "outputs": [],
   "source": [
    "from IPython.display import clear_output\n",
    "clear_output()\n"
   ]
  },
  {
   "cell_type": "code",
   "execution_count": 26,
   "metadata": {},
   "outputs": [
    {
     "name": "stdout",
     "output_type": "stream",
     "text": [
      "something went wrong! try again\n"
     ]
    },
    {
     "data": {
      "text/plain": [
       "False"
      ]
     },
     "execution_count": 26,
     "metadata": {},
     "output_type": "execute_result"
    }
   ],
   "source": [
    "import csv\n",
    "from IPython.display import clear_output\n",
    "clear_output()\n",
    "def register():\n",
    "    with open(\"userinfo.csv\",mode=\"a\",newline=\"\") as f:\n",
    "        writer=csv.writer(f,delimiter=\",\")\n",
    "        print(\"to register pls enter your info\")\n",
    "        email=input(\"Email: \")\n",
    "        password=input(\"password: \")\n",
    "        password2=input(\"Re type your information: \")\n",
    "        clear_output()\n",
    "        if password==password2:\n",
    "            writer.writerow([email,password])\n",
    "            print(\"you r a registered user now!\")\n",
    "        else:\n",
    "            print(\"something went wrong! try again.\")\n",
    "def login():\n",
    "    print(\"To login pls enter your info: \")\n",
    "    email=input(\"Email: \")\n",
    "    password=input(\"password: \")\n",
    "    clear_output()\n",
    "    with open(\"userinfo.csv\",mode=\"r\",newline=\"\") as f:\n",
    "        reader=csv.reader(f,delimiter=\",\")\n",
    "        for row in reader:\n",
    "           if row==[email,password]:\n",
    "            print(\"You have succesfully logged in!\")\n",
    "            return True\n",
    "        print(\"something went wrong! try again\")\n",
    "        return False\n",
    "register()\n",
    "login()"
   ]
  },
  {
   "cell_type": "code",
   "execution_count": 33,
   "metadata": {},
   "outputs": [
    {
     "name": "stdout",
     "output_type": "stream",
     "text": [
      "you r a registered user now!\n",
      "1.Login\n",
      "2.Register\n",
      "3.Quit\n",
      "\n",
      "thankyou for using this application\n"
     ]
    }
   ],
   "source": [
    "import csv\n",
    "from IPython.display import clear_output\n",
    "clear_output()\n",
    "def register():\n",
    "    with open(\"userinfo.csv\",mode=\"a\",newline=\"\") as f:\n",
    "        writer=csv.writer(f,delimiter=\",\")\n",
    "        print(\"to register pls enter your info\")\n",
    "        email=input(\"Email: \")\n",
    "        password=input(\"password: \")\n",
    "        password2=input(\"Re type your information: \")\n",
    "        clear_output()\n",
    "        if password==password2:\n",
    "            writer.writerow([email,password])\n",
    "            print(\"you r a registered user now!\")\n",
    "        else:\n",
    "            print(\"something went wrong! try again.\")\n",
    "def login():\n",
    "    print(\"To login pls enter your info: \")\n",
    "    email=input(\"Email: \")\n",
    "    password=input(\"password: \")\n",
    "    clear_output()\n",
    "    with open(\"userinfo.csv\",mode=\"r\",newline=\"\") as f:\n",
    "        reader=csv.reader(f,delimiter=\",\")\n",
    "        for row in reader:\n",
    "           if row==[email,password]:\n",
    "            print(\"You have succesfully logged in!\")\n",
    "            return True\n",
    "        print(\"something went wrong! try again\")\n",
    "        return False\n",
    "active= True\n",
    "logged_in=False\n",
    "while active:\n",
    "    if logged_in:\n",
    "        print(\"1.logout\\n2.Quit\\n\")\n",
    "    else:\n",
    "        print(\"1.Login\\n2.Register\\n3.Quit\\n\")\n",
    "    choice=input(\"what do u want to do?\").lower()\n",
    "    clear_output\n",
    "    if choice==\"register\" and logged_in==False:\n",
    "        register()\n",
    "    elif choice==\"login\" and logged_in==False:\n",
    "        login()\n",
    "        logged_in=True\n",
    "    elif choice==\"quit\":\n",
    "        active=False\n",
    "        print(\"thankyou for using this application\")\n",
    "    elif choice==\"logout\" and logged_in==True:\n",
    "        logged_in==False\n",
    "        print(\"you are now logged out\")\n",
    "    else:\n",
    "        print(\"wrong choice! try again\")"
   ]
  },
  {
   "cell_type": "code",
   "execution_count": 59,
   "metadata": {},
   "outputs": [
    {
     "name": "stdout",
     "output_type": "stream",
     "text": [
      "**************************************************\n",
      "\n",
      "                Coding Temple,Inc.                \n",
      "                 283 Franklin St.                 \n",
      "                    Boston, MA                    \n",
      "==================================================\n",
      "\tProduct Name\tProduct Price\n",
      "\n",
      "\tBooks\t\t$49.95\n",
      "\n",
      "\tComputer\t$579.99\n",
      "\n",
      "\tMonitor\t\t$124.89\n",
      "\n",
      "==================================================\n",
      "\t\t\tTotal\n",
      "\t\t\t$754.83\n",
      "\n",
      "==================================================\n",
      "\tThanks for shopping with us today!\n",
      "\n",
      "**************************************************"
     ]
    }
   ],
   "source": [
    "for i in range (0,50):\n",
    "    print(\"*\",end=\"\")\n",
    "\n",
    "txt =\"Coding Temple,Inc.\"\n",
    "txt1=\"283 Franklin St.\"\n",
    "txt3=\"Boston, MA\"\n",
    "x = txt.center(50,\" \")\n",
    "y = txt1.center(50,\" \")\n",
    "z = txt3.center(50,\" \")\n",
    "print(\"\\n\")\n",
    "print(x)\n",
    "print(y)\n",
    "print(z)\n",
    "for i in range (0,50):\n",
    "    print(\"=\",end=\"\")\n",
    "print(\"\\n\\tProduct Name\\tProduct Price\\n\")\n",
    "print(\"\\tBooks\\t\\t$49.95\\n\")\n",
    "print(\"\\tComputer\\t$579.99\\n\")\n",
    "print(\"\\tMonitor\\t\\t$124.89\\n\")\n",
    "for i in range (0,50):\n",
    "    print(\"=\",end=\"\")\n",
    "print(\"\\n\\t\\t\\tTotal\\n\\t\\t\\t$754.83\\n\")\n",
    "for i in range (0,50):\n",
    "    print(\"=\",end=\"\")\n",
    "print(\"\\n\\tThanks for shopping with us today!\\n\")\n",
    "for i in range (0,50):\n",
    "    print(\"*\",end=\"\")"
   ]
  },
  {
   "cell_type": "code",
   "execution_count": 2,
   "metadata": {},
   "outputs": [
    {
     "name": "stdout",
     "output_type": "stream",
     "text": [
      "Here are your cart items\n",
      "['apple']\n",
      "1.add item\n",
      "2.remove item\n",
      "3.showcart\n",
      "4.clear cart\n",
      "5.Quit\n"
     ]
    },
    {
     "ename": "SystemExit",
     "evalue": "exited cart succussfully!",
     "output_type": "error",
     "traceback": [
      "An exception has occurred, use %tb to see the full traceback.\n",
      "\u001b[1;31mSystemExit\u001b[0m\u001b[1;31m:\u001b[0m exited cart succussfully!\n"
     ]
    }
   ],
   "source": [
    "#shopping cart\n",
    "#add item, remove item , show cart , clear cart \n",
    "import sys\n",
    "from IPython.display import clear_output\n",
    "cart=[]\n",
    "def add():\n",
    "\n",
    "    clear_output()\n",
    "    cart.append(input(\"enter the item u want to add to the cart\"))\n",
    "    print(\"your item has been added to the cart\")\n",
    "\n",
    "def remove():\n",
    "    clear_output()\n",
    "    item=input(\"enter the enter the name of the item you want to remove\")\n",
    "    try:\n",
    "       cart.remove(item)\n",
    "       print(\"{} has been removed from your cart!\".format(item))\n",
    "    except:\n",
    "        print(\"sorry that item was not in your cart\")\n",
    "\n",
    "def showcart():\n",
    "    clear_output()\n",
    "    if cart:\n",
    "        print(\"Here are your cart items\")\n",
    "        print(cart)\n",
    "    else:\n",
    "        print(\"Your cart is empty\")\n",
    "\n",
    "def clearcart():\n",
    "    clear_output()\n",
    "    cart.clear()\n",
    "\n",
    "def main():\n",
    "    #active=True\n",
    "    while 1:\n",
    "        print(\"1.add item\\n2.remove item\\n3.showcart\\n4.clear cart\\n5.Quit\")\n",
    "        choice=input(\"what do u want to do?\").lower()\n",
    "        clear_output\n",
    "        if choice==\"add\":\n",
    "          add()\n",
    "        elif choice==\"remove\" :\n",
    "          remove()\n",
    "        elif choice==\"showcart\":\n",
    "          showcart()\n",
    "        elif choice==\"clearcart\":\n",
    "         clearcart()\n",
    "        elif choice==\"quit\":\n",
    "         #active=False\n",
    "         sys.exit(\"exited cart succussfully!\")\n",
    "        else:\n",
    "         print(\"Wrong choice\")\n",
    "\n",
    "main()\n",
    "\n",
    "     "
   ]
  },
  {
   "cell_type": "code",
   "execution_count": 13,
   "metadata": {},
   "outputs": [
    {
     "name": "stdout",
     "output_type": "stream",
     "text": [
      "the sum is : 3.0\n",
      "the diff is : 1.0\n",
      "the product is : 12.0\n",
      "Division by zero error\n",
      "the quotient is : 2.0\n",
      "Thank you\n"
     ]
    }
   ],
   "source": [
    "def cal(a,b,op):\n",
    "    if op == \"+\":\n",
    "        sum=a+b\n",
    "        print(\"the sum is :\",sum)\n",
    "    elif op == \"-\":\n",
    "        diff=a-b\n",
    "        print(\"the diff is :\",diff)\n",
    "    elif op == \"*\":\n",
    "        prod= a*b\n",
    "        print(\"the product is :\",prod)\n",
    "    elif op == \"/\":\n",
    "        try:\n",
    "            sum=a/b\n",
    "            print(\"the quotient is :\",sum)\n",
    "        except:\n",
    "            print(\"Division by zero error\")\n",
    "active=True\n",
    "while active:\n",
    "    a=float(input(\"enter num1\"))\n",
    "    b=float(input(\"enter num2\"))\n",
    "    op=input(\"enter opertaion: +,-,* or /\")\n",
    "    cal(a,b,op)\n",
    "    ch=input(\"would u like to continue?\")\n",
    "    if ch==\"yes\":\n",
    "         active=True\n",
    "    elif ch==\"no\":\n",
    "        active=False\n",
    "        print(\"Thank you\")\n",
    "        \n",
    "\n"
   ]
  },
  {
   "cell_type": "code",
   "execution_count": null,
   "metadata": {},
   "outputs": [],
   "source": []
  },
  {
   "cell_type": "code",
   "execution_count": null,
   "metadata": {},
   "outputs": [],
   "source": []
  }
 ],
 "metadata": {
  "interpreter": {
   "hash": "a077222d77dfe082b8f1dd562ad70e458ac2ab76993a0b248ab0476e32e9e8dd"
  },
  "kernelspec": {
   "display_name": "Python 3.9.12 ('base')",
   "language": "python",
   "name": "python3"
  },
  "language_info": {
   "codemirror_mode": {
    "name": "ipython",
    "version": 3
   },
   "file_extension": ".py",
   "mimetype": "text/x-python",
   "name": "python",
   "nbconvert_exporter": "python",
   "pygments_lexer": "ipython3",
   "version": "3.9.12"
  },
  "orig_nbformat": 4
 },
 "nbformat": 4,
 "nbformat_minor": 2
}
