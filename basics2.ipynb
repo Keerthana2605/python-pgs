{
 "cells": [
  {
   "cell_type": "markdown",
   "metadata": {},
   "source": [
    "FUNCTIONS"
   ]
  },
  {
   "cell_type": "code",
   "execution_count": 2,
   "metadata": {},
   "outputs": [
    {
     "name": "stdout",
     "output_type": "stream",
     "text": [
      "Keerthana M\n"
     ]
    }
   ],
   "source": [
    "def func(fname):\n",
    "    print(fname+\" M\")\n",
    "#func(\"a\")\n",
    "func(\"Keerthana\")\n",
    "#func(\"a\")\n",
    "#func(\"a\")"
   ]
  },
  {
   "cell_type": "code",
   "execution_count": 4,
   "metadata": {},
   "outputs": [
    {
     "name": "stdout",
     "output_type": "stream",
     "text": [
      "the youngest child is: A\n",
      "the youngest child is: ['A', 'B', 'C']\n"
     ]
    }
   ],
   "source": [
    "#Arbitrary arguments - when not sure abt the no of args, prefix with an '*'\n",
    "# it receives it as a tuple of arguments on the call\n",
    "\n",
    "def func(*kids):\n",
    "    print(\"the youngest child is:\", kids[0])\n",
    "func(\"A\",\"B\",\"C\")\n",
    "l=[\"A\",\"B\",\"C\"]\n",
    "func(l)"
   ]
  },
  {
   "cell_type": "code",
   "execution_count": 8,
   "metadata": {},
   "outputs": [
    {
     "name": "stdout",
     "output_type": "stream",
     "text": [
      "the youngest child is A\n"
     ]
    }
   ],
   "source": [
    "#Keyword arguments - no order os arguments\n",
    "\n",
    "def func(c3,c2,c1):\n",
    "    print(\"the youngest child is \"+ c1)\n",
    "#func(\"A\",\"B\",\"C\") #takes direct equality\n",
    "func(c1=\"A\",c2=\"B\",c3=\"C\")\n"
   ]
  },
  {
   "cell_type": "code",
   "execution_count": 11,
   "metadata": {},
   "outputs": [
    {
     "name": "stdout",
     "output_type": "stream",
     "text": [
      "lastname is B\n"
     ]
    }
   ],
   "source": [
    "#arbitrary keyword arguments - '**' is used \n",
    "def func (**name):\n",
    "    print(\"lastname is \"+ name[\"lname\"])\n",
    "func(fname=\"A\",mnae=\"z\",lname=\"B\")\n",
    "\n"
   ]
  },
  {
   "cell_type": "code",
   "execution_count": 13,
   "metadata": {},
   "outputs": [
    {
     "name": "stdout",
     "output_type": "stream",
     "text": [
      "I am from India\n",
      "I am from Germany\n",
      "I am from Brazil\n",
      "I am from Italy\n"
     ]
    }
   ],
   "source": [
    "#default parameters\n",
    "def func(country=\"India\"):\n",
    "    print(\"I am from \" +country)\n",
    "func()\n",
    "func(\"Germany\")\n",
    "func(\"Brazil\")\n",
    "func(\"Italy\")"
   ]
  },
  {
   "cell_type": "code",
   "execution_count": 34,
   "metadata": {},
   "outputs": [
    {
     "data": {
      "text/plain": [
       "21"
      ]
     },
     "execution_count": 34,
     "metadata": {},
     "output_type": "execute_result"
    }
   ],
   "source": [
    "#pass any value \n",
    "# return \n",
    "# recursion - fibonacci series 9\n",
    "a=0\n",
    "b=1\n",
    "def fibo(n):\n",
    "    if n<0:\n",
    "        print(\"incorrect input\")\n",
    "    elif n==0 or n==1 :\n",
    "        return 0\n",
    "    elif n==2:\n",
    "        return 1\n",
    "    else:\n",
    "        for i in range (0,n):\n",
    "            c=fibo(n-1)+fibo(n-2)\n",
    "            y=+c\n",
    "        return c\n",
    "        \n",
    "fibo(int(input()))"
   ]
  },
  {
   "cell_type": "markdown",
   "metadata": {},
   "source": [
    "LAMDA FUNCTION"
   ]
  },
  {
   "cell_type": "code",
   "execution_count": 25,
   "metadata": {},
   "outputs": [
    {
     "name": "stdout",
     "output_type": "stream",
     "text": [
      "15\n"
     ]
    }
   ],
   "source": [
    "#python lambda function - small anonymous fn, single expression \n",
    "#has the keyword lambda\n",
    "#syntax lambda arguments : expression\n",
    "\n",
    "x = lambda a: a+10\n",
    "print(x(5))"
   ]
  },
  {
   "cell_type": "code",
   "execution_count": 26,
   "metadata": {},
   "outputs": [
    {
     "name": "stdout",
     "output_type": "stream",
     "text": [
      "30\n"
     ]
    }
   ],
   "source": [
    "#lambda fn to multiply 2 nos.\n",
    "x = lambda a,b: a*b\n",
    "print(x(5,6))"
   ]
  },
  {
   "cell_type": "code",
   "execution_count": 27,
   "metadata": {},
   "outputs": [
    {
     "name": "stdout",
     "output_type": "stream",
     "text": [
      "18\n"
     ]
    }
   ],
   "source": [
    "#sum of 3 nos.\n",
    "x = lambda a,b,c: a+b+c\n",
    "print(x(5,6,7))"
   ]
  },
  {
   "cell_type": "code",
   "execution_count": 28,
   "metadata": {},
   "outputs": [
    {
     "name": "stdout",
     "output_type": "stream",
     "text": [
      "46\n",
      "78\n"
     ]
    }
   ],
   "source": [
    "#double and triple a number using lambda functions\n",
    "def fn(n):\n",
    "    return lambda a: a*n\n",
    "doubler= fn(2)\n",
    "print(doubler(23))\n",
    "tripler=fn(3)\n",
    "print(tripler(26))"
   ]
  },
  {
   "cell_type": "markdown",
   "metadata": {},
   "source": [
    "CLASSES and OBJECTS"
   ]
  },
  {
   "cell_type": "code",
   "execution_count": 33,
   "metadata": {},
   "outputs": [
    {
     "name": "stdout",
     "output_type": "stream",
     "text": [
      "hello my name is abc\n",
      "hello my age is 22\n",
      "hello my name is abc\n",
      "hello my age is 25\n"
     ]
    },
    {
     "ename": "AttributeError",
     "evalue": "'Person' object has no attribute 'age'",
     "output_type": "error",
     "traceback": [
      "\u001b[1;31m---------------------------------------------------------------------------\u001b[0m",
      "\u001b[1;31mAttributeError\u001b[0m                            Traceback (most recent call last)",
      "\u001b[1;32mc:\\Users\\user\\Keerthana M\\class5.ipynb Cell 14'\u001b[0m in \u001b[0;36m<cell line: 13>\u001b[1;34m()\u001b[0m\n\u001b[0;32m     <a href='vscode-notebook-cell:/c%3A/Users/user/Keerthana%20M/class5.ipynb#ch0000015?line=10'>11</a>\u001b[0m p1\u001b[39m.\u001b[39mfn()\n\u001b[0;32m     <a href='vscode-notebook-cell:/c%3A/Users/user/Keerthana%20M/class5.ipynb#ch0000015?line=11'>12</a>\u001b[0m \u001b[39mdel\u001b[39;00m p1\u001b[39m.\u001b[39mage\n\u001b[1;32m---> <a href='vscode-notebook-cell:/c%3A/Users/user/Keerthana%20M/class5.ipynb#ch0000015?line=12'>13</a>\u001b[0m \u001b[39mprint\u001b[39m(p1\u001b[39m.\u001b[39;49mage)\n",
      "\u001b[1;31mAttributeError\u001b[0m: 'Person' object has no attribute 'age'"
     ]
    }
   ],
   "source": [
    "class Person:\n",
    "    def __init__(self,name,age):\n",
    "        self.name=name\n",
    "        self.age=age\n",
    "    def fn(self):\n",
    "        print(\"hello my name is \"+self.name)\n",
    "        print(\"hello my age is \"+ str(self.age))\n",
    "p1=Person(\"abc\",22)\n",
    "p1.fn()\n",
    "p1.age=25\n",
    "p1.fn()\n",
    "del p1.age\n",
    "print(p1.age)\n",
    "\n"
   ]
  },
  {
   "cell_type": "code",
   "execution_count": 39,
   "metadata": {},
   "outputs": [
    {
     "name": "stdout",
     "output_type": "stream",
     "text": [
      "hello my name is Keerthana\n",
      "and my age is 21\n"
     ]
    }
   ],
   "source": [
    "#inheritance heirarchy-single,multi level\n",
    "class Person:\n",
    "    def __init__(self,name,age):\n",
    "        self.name=name\n",
    "        self.age=age\n",
    "    def fn(self):\n",
    "        print(\"hello my name is \"+self.name)\n",
    "        print(\"and my age is \"+ str(self.age))\n",
    "class Student(Person):\n",
    "    pass\n",
    "#first case\n",
    "x=Student(\"Keerthana\",21)\n",
    "x.fn()\n"
   ]
  },
  {
   "cell_type": "code",
   "execution_count": 40,
   "metadata": {},
   "outputs": [
    {
     "name": "stdout",
     "output_type": "stream",
     "text": [
      "hello my name is Keerthana\n",
      "and my age is 21\n"
     ]
    }
   ],
   "source": [
    "#inheritance - 2nd case - giving the name of the parent class \n",
    "class Person:\n",
    "    def __init__(self,name,age):\n",
    "        self.name=name\n",
    "        self.age=age\n",
    "    def fn(self):\n",
    "        print(\"hello my name is \"+self.name)\n",
    "        print(\"and my age is \"+ str(self.age))\n",
    "class Student(Person):\n",
    "    def __init__(self,name,age):\n",
    "        Person.__init__(self,name,age)\n",
    "x=Student(\"Keerthana\",21)\n",
    "x.fn()"
   ]
  },
  {
   "cell_type": "code",
   "execution_count": 43,
   "metadata": {},
   "outputs": [
    {
     "name": "stdout",
     "output_type": "stream",
     "text": [
      "hello my name is Keerthana\n",
      "and my age is 21\n",
      "welcome Keerthana with dob  2001\n"
     ]
    }
   ],
   "source": [
    "#inheritance - 3rd case - super() method refers to the parent class \n",
    "class Person:\n",
    "    def __init__(self,name,age):\n",
    "        self.name=name\n",
    "        self.age=age\n",
    "    def fn(self):\n",
    "        print(\"hello my name is \"+self.name)\n",
    "        print(\"and my age is \"+ str(self.age))\n",
    "class Student(Person):\n",
    "    def __init__(self,name,age,info):\n",
    "        super().__init__(name,age)\n",
    "        self.dob=info\n",
    "    def welcome(self):\n",
    "        print(\"welcome\", self.name, \"with dob \", self.dob)\n",
    "x=Student(\"Keerthana\",21,2001)\n",
    "x.fn()\n",
    "x.welcome()"
   ]
  },
  {
   "cell_type": "markdown",
   "metadata": {},
   "source": [
    "ITERATOR "
   ]
  },
  {
   "cell_type": "code",
   "execution_count": 1,
   "metadata": {},
   "outputs": [
    {
     "name": "stdout",
     "output_type": "stream",
     "text": [
      "apple\n",
      "banana\n",
      "cherry\n"
     ]
    }
   ],
   "source": [
    "#has __iter__ and __next__ methods\n",
    "mytuple = (\"apple\",\"banana\",\"cherry\")\n",
    "myit=iter(mytuple)\n",
    "print(next(myit))\n",
    "print(next(myit))\n",
    "print(next(myit))"
   ]
  },
  {
   "cell_type": "code",
   "execution_count": 3,
   "metadata": {},
   "outputs": [
    {
     "name": "stdout",
     "output_type": "stream",
     "text": [
      "b\n",
      "a\n",
      "n\n"
     ]
    }
   ],
   "source": [
    "#are strings iterable? - yes\n",
    "str = \"banana\"\n",
    "myit=iter(str)\n",
    "print(next(myit))\n",
    "print(next(myit))\n",
    "print(next(myit))"
   ]
  },
  {
   "cell_type": "code",
   "execution_count": 6,
   "metadata": {},
   "outputs": [
    {
     "name": "stdout",
     "output_type": "stream",
     "text": [
      "1\n",
      "2\n",
      "3\n",
      "4\n",
      "5\n",
      "6\n",
      "7\n",
      "8\n",
      "9\n",
      "10\n",
      "11\n",
      "12\n",
      "13\n",
      "14\n",
      "15\n",
      "16\n",
      "17\n",
      "18\n",
      "19\n",
      "20\n"
     ]
    }
   ],
   "source": [
    "#for loop - creates an iterator object \n",
    "#create an iterator that prints nos from 1 to 20\n",
    "class Numbers:\n",
    "    def __iter__(self):\n",
    "        self.a=1\n",
    "        return self\n",
    "    def __next__(self):\n",
    "        if self.a<=20:\n",
    "            x=self.a\n",
    "            self.a+=1\n",
    "            return x\n",
    "        else:\n",
    "            raise StopIteration\n",
    "num=Numbers()\n",
    "myiter=iter(num)\n",
    "for x in myiter:\n",
    "    print(x)\n"
   ]
  },
  {
   "cell_type": "code",
   "execution_count": 17,
   "metadata": {},
   "outputs": [
    {
     "name": "stdout",
     "output_type": "stream",
     "text": [
      "300\n"
     ]
    }
   ],
   "source": [
    "#scope of the variables - local scope gets the higher priority\n",
    "x=600\n",
    "def func():\n",
    "    x=300\n",
    "    def innerfunc():\n",
    "        print(x)\n",
    "    innerfunc()\n",
    "func()"
   ]
  },
  {
   "cell_type": "code",
   "execution_count": 16,
   "metadata": {},
   "outputs": [
    {
     "name": "stdout",
     "output_type": "stream",
     "text": [
      "300\n",
      "300\n"
     ]
    }
   ],
   "source": [
    "#use of keyword 'global'\n",
    "#scope of the variables - local scope gets the higher priority\n",
    "x=600\n",
    "def func():\n",
    "    global x \n",
    "    x=300\n",
    "    print(x)\n",
    "func()\n",
    "print(x)"
   ]
  },
  {
   "cell_type": "markdown",
   "metadata": {},
   "source": [
    "MODULES IN PYTHON"
   ]
  },
  {
   "cell_type": "code",
   "execution_count": 27,
   "metadata": {},
   "outputs": [
    {
     "name": "stdout",
     "output_type": "stream",
     "text": [
      "hello Keerthana\n"
     ]
    },
    {
     "ename": "AttributeError",
     "evalue": "module 'mymodule' has no attribute 'person'",
     "output_type": "error",
     "traceback": [
      "\u001b[1;31m---------------------------------------------------------------------------\u001b[0m",
      "\u001b[1;31mAttributeError\u001b[0m                            Traceback (most recent call last)",
      "\u001b[1;32mc:\\Users\\user\\Keerthana M\\class5.ipynb Cell 25'\u001b[0m in \u001b[0;36m<cell line: 3>\u001b[1;34m()\u001b[0m\n\u001b[0;32m      <a href='vscode-notebook-cell:/c%3A/Users/user/Keerthana%20M/class5.ipynb#ch0000023?line=0'>1</a>\u001b[0m \u001b[39mimport\u001b[39;00m \u001b[39mmymodule\u001b[39;00m \u001b[39mas\u001b[39;00m \u001b[39mmy\u001b[39;00m\n\u001b[0;32m      <a href='vscode-notebook-cell:/c%3A/Users/user/Keerthana%20M/class5.ipynb#ch0000023?line=1'>2</a>\u001b[0m my\u001b[39m.\u001b[39mgreeting(\u001b[39m\"\u001b[39m\u001b[39m Keerthana\u001b[39m\u001b[39m\"\u001b[39m)\n\u001b[1;32m----> <a href='vscode-notebook-cell:/c%3A/Users/user/Keerthana%20M/class5.ipynb#ch0000023?line=2'>3</a>\u001b[0m a\u001b[39m=\u001b[39mmy\u001b[39m.\u001b[39;49mperson[\u001b[39m\"\u001b[39m\u001b[39mname\u001b[39m\u001b[39m\"\u001b[39m]\n\u001b[0;32m      <a href='vscode-notebook-cell:/c%3A/Users/user/Keerthana%20M/class5.ipynb#ch0000023?line=3'>4</a>\u001b[0m \u001b[39mprint\u001b[39m(a)\n",
      "\u001b[1;31mAttributeError\u001b[0m: module 'mymodule' has no attribute 'person'"
     ]
    }
   ],
   "source": [
    "import mymodule as my\n",
    "my.greeting(\" Keerthana\")\n",
    "a=my.person[\"name\"]\n",
    "print(a)"
   ]
  },
  {
   "cell_type": "code",
   "execution_count": null,
   "metadata": {},
   "outputs": [],
   "source": [
    "import mymodule \n",
    "x=dir(mymodule) #returns properties and methods of the object\n",
    "print(x)\n"
   ]
  },
  {
   "cell_type": "markdown",
   "metadata": {},
   "source": [
    "DATE and TIME"
   ]
  },
  {
   "cell_type": "code",
   "execution_count": 28,
   "metadata": {},
   "outputs": [
    {
     "name": "stdout",
     "output_type": "stream",
     "text": [
      "2022-06-09 06:45:57.806156\n"
     ]
    }
   ],
   "source": [
    "import datetime\n",
    "x=datetime.datetime.now()\n",
    "print(x)"
   ]
  },
  {
   "cell_type": "code",
   "execution_count": 29,
   "metadata": {},
   "outputs": [
    {
     "name": "stdout",
     "output_type": "stream",
     "text": [
      "2022\n",
      "Thu\n",
      "Thursday\n",
      "Jun\n"
     ]
    }
   ],
   "source": [
    "#year and name of the day\n",
    "import datetime\n",
    "x=datetime.datetime.now()\n",
    "print(x.year)\n",
    "print(x.strftime(\"%a\")) #%a- shortform of day and %A- fullform of the day\n",
    "print(x.strftime(\"%A\"))\n",
    "print(x.strftime(\"%b\")) #%b - month"
   ]
  },
  {
   "cell_type": "code",
   "execution_count": 30,
   "metadata": {},
   "outputs": [
    {
     "name": "stdout",
     "output_type": "stream",
     "text": [
      "2022-05-17 00:00:00\n",
      "2022\n",
      "May\n"
     ]
    }
   ],
   "source": [
    "import datetime\n",
    "x=datetime.datetime(2022,5,17)\n",
    "print(x)\n",
    "print(x.year)\n",
    "print(x.strftime(\"%b\"))"
   ]
  },
  {
   "cell_type": "markdown",
   "metadata": {},
   "source": [
    "FILES"
   ]
  },
  {
   "cell_type": "code",
   "execution_count": 38,
   "metadata": {},
   "outputs": [
    {
     "name": "stdout",
     "output_type": "stream",
     "text": [
      "Hi! \n",
      "w\n"
     ]
    }
   ],
   "source": [
    "f=open(\"demo.txt\",\"rt\") #r-read, w-write and x- execute\n",
    "print(f.read(6))\n"
   ]
  },
  {
   "cell_type": "code",
   "execution_count": 39,
   "metadata": {},
   "outputs": [
    {
     "name": "stdout",
     "output_type": "stream",
     "text": [
      "Hi! \n",
      "\n"
     ]
    }
   ],
   "source": [
    "f=open(\"demo.txt\",\"rt\")\n",
    "print(f.readline())"
   ]
  },
  {
   "cell_type": "code",
   "execution_count": 40,
   "metadata": {},
   "outputs": [
    {
     "name": "stdout",
     "output_type": "stream",
     "text": [
      "Hi! \n",
      "\n",
      "welcome to dhilligence\n",
      "\n",
      "this is a place to learn and explore\n",
      "\n",
      "all the best\n",
      "\n"
     ]
    }
   ],
   "source": [
    "f=open(\"demo.txt\",\"rt\")\n",
    "for x in f:\n",
    "    print(x)\n",
    "f.close()"
   ]
  },
  {
   "cell_type": "code",
   "execution_count": 45,
   "metadata": {},
   "outputs": [],
   "source": [
    "#writing to a file - write, append\n",
    "f=open(\"demo.txt\",\"a\")\n",
    "f.write(\"new information\")\n",
    "f.close()\n"
   ]
  },
  {
   "cell_type": "code",
   "execution_count": 46,
   "metadata": {},
   "outputs": [],
   "source": [
    "f=open(\"demo.txt\",\"w\")\n",
    "f.write(\"new information\")\n",
    "f.close()\n"
   ]
  },
  {
   "cell_type": "code",
   "execution_count": 47,
   "metadata": {},
   "outputs": [],
   "source": [
    "import os\n",
    "os.remove(\"demo.txt\")"
   ]
  },
  {
   "cell_type": "code",
   "execution_count": 50,
   "metadata": {},
   "outputs": [
    {
     "name": "stdout",
     "output_type": "stream",
     "text": [
      "flie doesnt exit\n"
     ]
    }
   ],
   "source": [
    "import os\n",
    "if os.path.exists(\"demo.txt\"):\n",
    "    os.remove(\"demo.txt\")\n",
    "else:\n",
    "    print(\"flie doesnt exit\")"
   ]
  },
  {
   "cell_type": "code",
   "execution_count": 51,
   "metadata": {},
   "outputs": [
    {
     "data": {
      "text/plain": [
       "(30, 100)"
      ]
     },
     "execution_count": 51,
     "metadata": {},
     "output_type": "execute_result"
    }
   ],
   "source": [
    "#lambda function few example - any  number of parameters *,** \n",
    "#lambda function that adds any set of numbers\n",
    "res=lambda *args: sum(args)\n",
    "res(10,20), res(10,20,30,40)\n"
   ]
  },
  {
   "cell_type": "code",
   "execution_count": 52,
   "metadata": {},
   "outputs": [
    {
     "data": {
      "text/plain": [
       "(30, 100)"
      ]
     },
     "execution_count": 52,
     "metadata": {},
     "output_type": "execute_result"
    }
   ],
   "source": [
    "#lambda fn that used any number of keyboard arguments and compute the product\n",
    "res=lambda ** kw : sum(kw.values())\n",
    "res(a=10,b=20), res(a=10,b=20,c=30,d=40)\n"
   ]
  },
  {
   "cell_type": "code",
   "execution_count": null,
   "metadata": {},
   "outputs": [],
   "source": []
  }
 ],
 "metadata": {
  "interpreter": {
   "hash": "a077222d77dfe082b8f1dd562ad70e458ac2ab76993a0b248ab0476e32e9e8dd"
  },
  "kernelspec": {
   "display_name": "Python 3.9.12 ('base')",
   "language": "python",
   "name": "python3"
  },
  "language_info": {
   "codemirror_mode": {
    "name": "ipython",
    "version": 3
   },
   "file_extension": ".py",
   "mimetype": "text/x-python",
   "name": "python",
   "nbconvert_exporter": "python",
   "pygments_lexer": "ipython3",
   "version": "3.9.12"
  },
  "orig_nbformat": 4
 },
 "nbformat": 4,
 "nbformat_minor": 2
}
